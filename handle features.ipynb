{
 "cells": [
  {
   "cell_type": "code",
   "execution_count": 260,
   "metadata": {
    "collapsed": false
   },
   "outputs": [],
   "source": [
    "import pandas as pd\n",
    "from pandas import DataFrame as df\n",
    "import xml.etree.ElementTree as ET\n",
    "import numpy as np\n",
    "import os\n",
    "import re"
   ]
  },
  {
   "cell_type": "code",
   "execution_count": null,
   "metadata": {
    "collapsed": true
   },
   "outputs": [],
   "source": []
  },
  {
   "cell_type": "code",
   "execution_count": 261,
   "metadata": {
    "collapsed": true
   },
   "outputs": [],
   "source": [
    "DATE_TEMPLATE = re.compile(r'\\d{2}.\\d{2}.\\d{4}')\n",
    "\n",
    "INPUT_FILE = os.path.normpath(r'IO\\output.xml')\n",
    "PREPROCESSED_INPUT = os.path.normpath(r'IO\\preprocessed_input.txt')\n",
    "OUTPUT_EXCEL = os.path.normpath(r'IO\\report.xlsx')\n",
    "SAME_CATEGORY_DELIMITER = r'__'"
   ]
  },
  {
   "cell_type": "code",
   "execution_count": 262,
   "metadata": {
    "collapsed": false,
    "scrolled": true
   },
   "outputs": [
    {
     "data": {
      "text/plain": [
       "'\\n   <b>\\n      <s>\\n         21.06.2016\\n         <P n0=\"\" lemma=\"89140580517\">89140580517</P>\\n         хочет\\n         <W n1=\"\" lemma=\"buy\">купить</W>\\n         <W n2=\"\" lemma=\"ноутбук\">ноутбук</W>\\n         за 17000 руб ездить\\n         <P n3=\"\" lemma=\"Якутия\">Якутия</P>\\n         .\\n      </s>\\n   </b>\\n'"
      ]
     },
     "execution_count": 262,
     "metadata": {},
     "output_type": "execute_result"
    }
   ],
   "source": [
    "tree = ET.parse(INPUT_FILE)\n",
    "\n",
    "строки_с_ошибками = dict()\n",
    "\n",
    "root = tree.getroot()\n",
    "r = root.findall(\"Lead\")\n",
    "\n",
    "def make_dict_of_leads(root=root):\n",
    "    dict_of_leads = dict();\n",
    "    for lead in root.iter('Lead'):\n",
    "        id = lead.attrib[\"id\"]\n",
    "\n",
    "        pulpy = ET.fromstring(lead.attrib[\"text\"])\n",
    "        source_sentence = pulpy.find(\"b\").find(\"s\")\n",
    "\n",
    "        remove_explicit_from_sentence(source_sentence)\n",
    "\n",
    "        text = ''.join(source_sentence.itertext())\n",
    "        dict_of_leads[id] = re.sub(r'\\.+$', '', text.strip());\n",
    "    return dict_of_leads\n",
    "\n",
    "def remove_explicit_from_sentence(xml_sentence):\n",
    "    \n",
    "    def remove_target_node(xml_sentence, target_template):\n",
    "        for node in xml_sentence:\n",
    "            if re.search(target_template, node.attrib[\"lemma\"]):\n",
    "                node.text = ''\n",
    "\n",
    "    # to remove\n",
    "    phoneno = re.compile(r'\\d{8,12}')\n",
    "    date = DATE_TEMPLATE\n",
    "\n",
    "    remove_target_node(xml_sentence, phoneno)\n",
    "    remove_target_node(xml_sentence, date)\n",
    "    \n",
    "\n",
    "\"\"\"\n",
    "   <b>\n",
    "      <s>\n",
    "         21.06.2016\n",
    "         <P n0=\"\" lemma=\"89140580517\">89140580517</P>\n",
    "         хочет\n",
    "         <W n1=\"\" lemma=\"buy\">купить</W>\n",
    "         <W n2=\"\" lemma=\"ноутбук\">ноутбук</W>\n",
    "         за 17000 руб ездить\n",
    "         <P n3=\"\" lemma=\"Якутия\">Якутия</P>\n",
    "         .\n",
    "      </s>\n",
    "   </b>\n",
    "\"\"\"\n"
   ]
  },
  {
   "cell_type": "code",
   "execution_count": 263,
   "metadata": {
    "collapsed": false
   },
   "outputs": [],
   "source": [
    "# todo: помнить о тексте лида. Там выделены факты прямо в разметке - полезно при выводе информации в веб-интерфейсе\n",
    "\n",
    "def compare_facts_to_leads(root=root):\n",
    "    facts_grouped_by_lead = dict()\n",
    "\n",
    "    for i in root.find(\"document\").find('facts'):\n",
    "        lead_id = i.attrib['LeadID']\n",
    "        if facts_grouped_by_lead.get(lead_id):\n",
    "            facts_grouped_by_lead[lead_id].append(i)\n",
    "        else:\n",
    "            facts_grouped_by_lead[lead_id] = [i]\n",
    "    return facts_grouped_by_lead\n",
    "\n",
    "def make_common_table():\n",
    "    appendix = [\n",
    "        \"CustomerBuys_Word\",\n",
    "        \"CustomerSells_Word\",\n",
    "        \"Pawn_Word\",\n",
    "        \"Repare_Word\",\n",
    "        \"Matter_Notebook\",\n",
    "        \"Matter_Phone\",\n",
    "        \"Matter_Tablet\",\n",
    "        \"Matter_TV\",\n",
    "        \"Matter_Other\",\n",
    "        \"CustomerPlace_Yakutia\",\n",
    "        \"CustomerPlace_Buryatia\",\n",
    "        \"Communication_SMS\",\n",
    "        \"Communication_WhatsApp\",\n",
    "     ]\n",
    "    calls = df(columns=appendix)\n",
    "    \n",
    "    facts = compare_facts_to_leads()\n",
    "    leads = make_dict_of_leads()\n",
    "\n",
    "    for lead in facts:\n",
    "        try:\n",
    "            elems = facts[lead]\n",
    "            one_sentence = leads[lead]\n",
    "            cols = [\"lead_id\", \"conversation\"]\n",
    "            values = [lead, one_sentence]\n",
    "            fact_num = 0;\n",
    "            for fact in elems:\n",
    "                for fact_field in fact:\n",
    "                    fact_name = fact.tag + \"_\" + fact_field.tag\n",
    "                    if fact_name not in cols:\n",
    "                        fact_num = 0;\n",
    "                    else:\n",
    "                        fact_name += SAME_CATEGORY_DELIMITER + str(fact_num )\n",
    "                        fact_num += 1\n",
    "                    cols.append(fact_name)\n",
    "                    values.append(fact_field.attrib[\"val\"])\n",
    "            one_row = pd.DataFrame([values], columns=cols)\n",
    "            calls = calls.append(one_row)\n",
    "            values = []\n",
    "            cols = []\n",
    "        except ValueError as e:\n",
    "            print(cols, values)\n",
    "            print(\"Value Error\", e)\n",
    "            print(e)\n",
    "            lineno = str(int(lead) + 2)\n",
    "            строки_с_ошибками[int(lead) + 2] = leads[lead]\n",
    "            print(\"Ошибка в строке \" + lineno + \" исходных данных.\\n\", leads[lead])\n",
    "        except AssertionError as e:\n",
    "\n",
    "            print(\"Assertion Error\", e)\n",
    "            lineno = str(int(lead) + 2)\n",
    "            строки_с_ошибками[int(lead) + 2] = leads[lead]\n",
    "            print(\"Ошибка в строке \" + lineno + \" исходных данных.\\n\", leads[lead])\n",
    "\n",
    "    calls[\"lead_id\"] = calls[\"lead_id\"].map(int)\n",
    "    calls = calls.sort_values(by=\"lead_id\")\n",
    "    calls = calls.set_index(\"lead_id\")\n",
    "    return calls\n"
   ]
  },
  {
   "cell_type": "code",
   "execution_count": 264,
   "metadata": {
    "collapsed": false,
    "scrolled": true
   },
   "outputs": [],
   "source": [
    "calls = make_common_table()\n",
    "calls.to_excel(\"common_table.xlsx\")"
   ]
  },
  {
   "cell_type": "code",
   "execution_count": 265,
   "metadata": {
    "collapsed": false
   },
   "outputs": [],
   "source": [
    "\n",
    "\n",
    "        \n",
    "    \n",
    "def cols_with_same_category(source_df):\n",
    "    same_categories = dict()\n",
    "    for col in source_df.columns:\n",
    "        name_num = col.split(SAME_CATEGORY_DELIMITER)\n",
    "        if len(name_num) > 1:\n",
    "            col_name, col_number = col.split(SAME_CATEGORY_DELIMITER)\n",
    "            if col_number:\n",
    "                if same_categories.get(col_name):\n",
    "                    same_categories[col_name].append(col)\n",
    "                else:\n",
    "                    same_categories[col_name] = [col_name]\n",
    "                    same_categories[col_name].append(col)\n",
    "    return same_categories\n",
    "\n",
    "def merge_cols_with_same_contents(source_df):\n",
    "    cols_to_merge = cols_with_same_category(source_df)\n",
    "    for col in cols_to_merge.keys():\n",
    "        main_col_name = col[0]\n",
    "        source_df.concat()\n",
    "\n",
    "    return source_df\n",
    "    \n",
    "\n",
    "# cc = cols_with_same_category(calls)\n",
    "# c = cc[\"CustomerPhone_Phone\"]\n",
    "\n",
    "# pd.merge(calls[\"Repare_Word\"], calls[\"Repare_Word__0\"], how=\"left\")"
   ]
  },
  {
   "cell_type": "code",
   "execution_count": 266,
   "metadata": {
    "collapsed": false
   },
   "outputs": [],
   "source": [
    "# Выбираю тут колонки, которые \n",
    "\n",
    "cols_for_ykt = [\n",
    "    # Колонки, полученные из названий фактов\n",
    "    [\n",
    "        \"CallDate_Date\",\n",
    "        \"CustomerPhone_Phone\",\n",
    "        \"Matter_Notebook\",\n",
    "        \"Matter_Tablet\",\n",
    "        \"Matter_Phone\",        \n",
    "        \"Matter_TV\",\n",
    "        \"Matter_Other\",\n",
    "        \"conversation\",\n",
    "        \"Комплектация\",\n",
    "        \"Цена клиента\",\n",
    "        \"Наша цена\",\n",
    "        \"Утилизация\",\n",
    "        \"Решение клиента\",\n",
    "    ],\n",
    "\n",
    "    # Колонки, в которые будут переименованы верхние, исходные колонки\n",
    "    [\n",
    "        \"Дата\",\n",
    "        \"Номер телефона\",\n",
    "        \"Ноутбук/нетбук\",\n",
    "        \"Планшет\",\n",
    "        \"Телефон\",        \n",
    "        \"Телевизор\",\n",
    "        \"Другое\",\n",
    "        \"Разговор\",\n",
    "        \"Комплектация\",\n",
    "        \"Цена клиента\",\n",
    "        \"Наша цена\",\n",
    "        \"Утилизация\",\n",
    "        \"Решение клиента\",\n",
    "    ]\n",
    "]"
   ]
  },
  {
   "cell_type": "code",
   "execution_count": 267,
   "metadata": {
    "collapsed": false
   },
   "outputs": [],
   "source": [
    "# Подготовка вывода для листа \"Бурятия\"\n",
    "\n",
    "# todo действие по умолчанию - купить. Собрать такие графы, в которых нет действия, в таблицу \"Купить\" - клиент покупает у нас\n",
    "# todo ремонт только телефонов и ноутбуков - объединить всё, кроме телефонов и ноутбуков в графу \"Другое\"\n",
    "\n",
    "def join_other_matters(source_df, cols, new_name):\n",
    "    matter_other = df(index=source_df.index, columns=[new_name])\n",
    "\n",
    "    for matter in cols:\n",
    "        matter_other[new_name] = matter_other[new_name].dropna().append(source_df[matter].dropna())\n",
    "\n",
    "    source_df = pd.concat([source_df, matter_other], axis=1)\n",
    "    return source_df\n",
    "\n",
    "def extract_and_rename(source_df, cols):\n",
    "    extracted = df(source_df, columns=cols[0])\n",
    "    extracted.columns=cols[1]\n",
    "    return extracted\n",
    "\n",
    "def prepare_for_excel_ykt(source_df, col_name, output_cols):\n",
    "    yakutia = source_df[source_df.CustomerPlace_Buryatia.isnull()]\n",
    "    yakutia = yakutia[yakutia.Communication_SMS.isnull() & yakutia.Communication_WhatsApp.isnull()]\n",
    "    actions = yakutia[yakutia[col_name].notnull()]\n",
    "    return extract_and_rename(actions, output_cols)\n",
    "\n",
    "def prepare_for_buryatia(all_calls, cols):\n",
    "    # Звонки из Бурятии\n",
    "    calls_from_buryatia = all_calls[all_calls.CustomerPlace_Buryatia.notnull()]\n",
    "    \n",
    "    # Группирую все предметы кроме usial_matter в отдельный список для объединения в одной колонке\n",
    "    usial_matter = [\"Matter_Notebook\", \"Matter_Phone\", \"Matter_Tablet\"]\n",
    "    matter_except_usial = [col for col in calls_from_buryatia.columns if col.startswith(\"Matter\") and col not in usial_matter]\n",
    "    \n",
    "    calls_buryatia_joined = join_other_matters(calls_from_buryatia, matter_except_usial, \"Комплектующее\")\n",
    "    if not calls_buryatia_joined.empty:\n",
    "        return extract_and_rename(calls_buryatia_joined, cols)\n",
    "    else:\n",
    "        return calls_from_buryatia\n",
    "\n",
    "def prepare_for_smswhatsapp(all_calls):\n",
    "    cols = [\"Communication_WhatsApp\", \"Communication_SMS\"]\n",
    "    all_calls[\"smswhatsapp\"] = all_calls[\"Communication_WhatsApp\"].append(all_calls[\"Communication_SMS\"]).dropna()\n",
    "    smswhatsapp = all_calls[all_calls[\"smswhatsapp\"].notnull()]\n",
    "    return extract_and_rename(smswhatsapp, cols_for_buryatia)\n",
    "\n"
   ]
  },
  {
   "cell_type": "code",
   "execution_count": 268,
   "metadata": {
    "collapsed": false
   },
   "outputs": [],
   "source": [
    "# cols = matter_except_usial\n",
    "# new_name = \"Комплектующее\"\n",
    "# source_df = calls_from_buryatia\n",
    "\n",
    "# matter_other = df(index=source_df.index, columns=[new_name])\n",
    "\n",
    "# matter_other[new_name] = matter_other[new_name].dropna().append(source_df[\"Matter_TV\"].dropna())\n",
    "# matter_other[new_name] = matter_other[new_name].dropna().append(source_df[\"Matter_Other\"].dropna())\n",
    "# matter_other\n",
    "\n",
    "# pd.concat([source_df, matter_other], axis=1)"
   ]
  },
  {
   "cell_type": "code",
   "execution_count": 269,
   "metadata": {
    "collapsed": false,
    "scrolled": true
   },
   "outputs": [],
   "source": [
    "cols_for_buryatia = [\n",
    "    [\n",
    "        \"CallDate_Date\",\n",
    "        \"CustomerPhone_Phone\",\n",
    "        \"Matter_Notebook\",\n",
    "        \"Matter_Tablet\",\n",
    "        \"Matter_Phone\",\n",
    "        \"Комплектующее\",\n",
    "        \"conversation\",\n",
    "        \"Комплектация\",\n",
    "        \"Цена клиента\",\n",
    "        \"Наша цена\",\n",
    "        \"Утилизация\",\n",
    "        \"Решение клиента\",\n",
    "    ],\n",
    "\n",
    "    [\n",
    "        \"Дата\",\n",
    "        \"Номер телефона\",\n",
    "        \"Ноутбук/нетбук\",\n",
    "        \"Планшет\",\n",
    "        \"Телефон\",\n",
    "        \"Другое\",\n",
    "        \"Разговор\",\n",
    "        \"Комплектация\",\n",
    "        \"Цена клиента\",\n",
    "        \"Наша цена\",\n",
    "        \"Утилизация\",\n",
    "        \"Решение клиента\",\n",
    "    ]\n",
    "]"
   ]
  },
  {
   "cell_type": "code",
   "execution_count": 270,
   "metadata": {
    "collapsed": false
   },
   "outputs": [],
   "source": [
    "def make_excel():\n",
    "    calls = make_common_table()\n",
    "    \n",
    "    writer = pd.ExcelWriter(OUTPUT_EXCEL)\n",
    "\n",
    "    vikup = prepare_for_excel_ykt(calls, \"CustomerSells_Word\", cols_for_ykt)\n",
    "    prodazha = prepare_for_excel_ykt(calls, \"CustomerBuys_Word\", cols_for_ykt)\n",
    "    remont = prepare_for_excel_ykt(calls, \"Repare_Word\", cols_for_ykt)\n",
    "    lombard = prepare_for_excel_ykt(calls, \"Pawn_Word\", cols_for_ykt)\n",
    "    buryatia = prepare_for_buryatia(calls, cols_for_buryatia)\n",
    "    smswhatsapp = prepare_for_smswhatsapp(calls)\n",
    "\n",
    "    vikup.to_excel(writer, sheet_name = \"Выкуп\", index=False)\n",
    "    prodazha.to_excel(writer, sheet_name = \"Продажа\", index=False)\n",
    "    remont.to_excel(writer, sheet_name = \"Ремонт\", index=False)\n",
    "    lombard.to_excel(writer, sheet_name = \"Ломбард\", index=False)\n",
    "    buryatia.to_excel(writer, sheet_name = \"Бурятия\", index=False)\n",
    "    smswhatsapp.to_excel(writer, sheet_name = \"smswhatsapp\", index=False)\n",
    "    writer.save()"
   ]
  },
  {
   "cell_type": "code",
   "execution_count": 271,
   "metadata": {
    "collapsed": false
   },
   "outputs": [],
   "source": [
    "def report():\n",
    "    with open(PREPROCESSED_INPUT) as f:\n",
    "        source_file = f.read().splitlines()\n",
    "\n",
    "    percent_of_handled = len(calls) / len(source_file) * 100\n",
    "    print(\"Процент успешно обработанных данных:\", percent_of_handled)\n",
    "    print(\"Строки с ошибками (необработано): \", строки_с_ошибками)"
   ]
  },
  {
   "cell_type": "code",
   "execution_count": 272,
   "metadata": {
    "collapsed": true
   },
   "outputs": [],
   "source": [
    "def classify():\n",
    "    \n",
    "    make_excel()\n",
    "    report()"
   ]
  },
  {
   "cell_type": "code",
   "execution_count": 273,
   "metadata": {
    "collapsed": false
   },
   "outputs": [
    {
     "name": "stdout",
     "output_type": "stream",
     "text": [
      "Процент успешно обработанных данных: 99.510603588907\n",
      "Строки с ошибками (необработано):  {}\n"
     ]
    }
   ],
   "source": [
    "if __name__ == \"__main__\":\n",
    "    classify()"
   ]
  },
  {
   "cell_type": "code",
   "execution_count": null,
   "metadata": {
    "collapsed": true
   },
   "outputs": [],
   "source": []
  }
 ],
 "metadata": {
  "kernelspec": {
   "display_name": "Python 3",
   "language": "python",
   "name": "python3"
  },
  "language_info": {
   "codemirror_mode": {
    "name": "ipython",
    "version": 3
   },
   "file_extension": ".py",
   "mimetype": "text/x-python",
   "name": "python",
   "nbconvert_exporter": "python",
   "pygments_lexer": "ipython3",
   "version": "3.5.1"
  }
 },
 "nbformat": 4,
 "nbformat_minor": 0
}
