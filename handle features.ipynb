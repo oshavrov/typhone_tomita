{
 "cells": [
  {
   "cell_type": "code",
   "execution_count": 1,
   "metadata": {
    "collapsed": false
   },
   "outputs": [],
   "source": [
    "import pandas as pd\n",
    "from pandas import DataFrame as df\n",
    "import xml.etree.ElementTree as ET\n",
    "import numpy as np\n",
    "import os\n",
    "import re"
   ]
  },
  {
   "cell_type": "code",
   "execution_count": null,
   "metadata": {
    "collapsed": true
   },
   "outputs": [],
   "source": []
  },
  {
   "cell_type": "code",
   "execution_count": 2,
   "metadata": {
    "collapsed": true
   },
   "outputs": [],
   "source": [
    "DATE_TEMPLATE = re.compile(r'\\d{2}.\\d{2}.\\d{4}')\n",
    "\n",
    "INPUT_FILE = os.path.normpath(r'IO\\output.xml')\n",
    "PREPROCESSED_INPUT = os.path.normpath(r'IO\\preprocessed_input.txt')\n",
    "OUTPUT_EXCEL = os.path.normpath(r'IO\\report.xlsx')\n",
    "SAME_CATEGORY_DELIMITER = r'__'\n",
    "EMPTY_COLS = [\"Комплектация\", \"Цена клиента\", \"Наша цена\", \"Утилизация\", \"Решение клиента\"]"
   ]
  },
  {
   "cell_type": "code",
   "execution_count": 3,
   "metadata": {
    "collapsed": false,
    "scrolled": true
   },
   "outputs": [
    {
     "data": {
      "text/plain": [
       "'\\n   <b>\\n      <s>\\n         21.06.2016\\n         <P n0=\"\" lemma=\"89140580517\">89140580517</P>\\n         хочет\\n         <W n1=\"\" lemma=\"buy\">купить</W>\\n         <W n2=\"\" lemma=\"ноутбук\">ноутбук</W>\\n         за 17000 руб ездить\\n         <P n3=\"\" lemma=\"Якутия\">Якутия</P>\\n         .\\n      </s>\\n   </b>\\n'"
      ]
     },
     "execution_count": 3,
     "metadata": {},
     "output_type": "execute_result"
    }
   ],
   "source": [
    "tree = ET.parse(INPUT_FILE)\n",
    "\n",
    "строки_с_ошибками = dict()\n",
    "\n",
    "root = tree.getroot()\n",
    "r = root.findall(\"Lead\")\n",
    "\n",
    "def make_dict_of_leads(root=root):\n",
    "    dict_of_leads = dict();\n",
    "    for lead in root.iter('Lead'):\n",
    "        id = lead.attrib[\"id\"]\n",
    "\n",
    "        pulpy = ET.fromstring(lead.attrib[\"text\"])\n",
    "        source_sentence = pulpy.find(\"b\").find(\"s\")\n",
    "\n",
    "        remove_explicit_from_sentence(source_sentence)\n",
    "\n",
    "        text = ''.join(source_sentence.itertext())\n",
    "        dict_of_leads[id] = re.sub(r'\\.+$', '', text.strip());\n",
    "    return dict_of_leads\n",
    "\n",
    "def remove_explicit_from_sentence(xml_sentence):\n",
    "    \n",
    "    def remove_target_node(xml_sentence, target_template):\n",
    "        for node in xml_sentence:\n",
    "            if re.search(target_template, node.attrib[\"lemma\"]):\n",
    "                node.text = ''\n",
    "\n",
    "    # to remove\n",
    "    phoneno = re.compile(r'\\d{8,12}')\n",
    "    date = DATE_TEMPLATE\n",
    "\n",
    "    remove_target_node(xml_sentence, phoneno)\n",
    "    remove_target_node(xml_sentence, date)\n",
    "    \n",
    "\n",
    "\"\"\"\n",
    "   <b>\n",
    "      <s>\n",
    "         21.06.2016\n",
    "         <P n0=\"\" lemma=\"89140580517\">89140580517</P>\n",
    "         хочет\n",
    "         <W n1=\"\" lemma=\"buy\">купить</W>\n",
    "         <W n2=\"\" lemma=\"ноутбук\">ноутбук</W>\n",
    "         за 17000 руб ездить\n",
    "         <P n3=\"\" lemma=\"Якутия\">Якутия</P>\n",
    "         .\n",
    "      </s>\n",
    "   </b>\n",
    "\"\"\"\n"
   ]
  },
  {
   "cell_type": "code",
   "execution_count": 4,
   "metadata": {
    "collapsed": false
   },
   "outputs": [],
   "source": [
    "# todo: помнить о тексте лида. Там выделены факты прямо в разметке - полезно при выводе информации в веб-интерфейсе\n",
    "\n",
    "def compare_facts_to_leads(root=root):\n",
    "    facts_grouped_by_lead = dict()\n",
    "\n",
    "    for i in root.find(\"document\").find('facts'):\n",
    "        lead_id = i.attrib['LeadID']\n",
    "        if facts_grouped_by_lead.get(lead_id):\n",
    "            facts_grouped_by_lead[lead_id].append(i)\n",
    "        else:\n",
    "            facts_grouped_by_lead[lead_id] = [i]\n",
    "    return facts_grouped_by_lead\n",
    "\n",
    "def make_common_table():\n",
    "    calls = df()\n",
    "    \n",
    "    facts = compare_facts_to_leads()\n",
    "    leads = make_dict_of_leads()\n",
    "\n",
    "    for lead in facts:\n",
    "        try:\n",
    "            elems = facts[lead]\n",
    "            one_sentence = leads[lead]\n",
    "            cols = [\"lead_id\", \"conversation\"]\n",
    "            values = [lead, one_sentence]\n",
    "            fact_num = 0;\n",
    "            for fact in elems:\n",
    "                for fact_field in fact:\n",
    "                    fact_name = fact.tag + \"_\" + fact_field.tag\n",
    "                    if fact_name not in cols:\n",
    "                        fact_num = 0;\n",
    "                    else:\n",
    "                        fact_name += SAME_CATEGORY_DELIMITER + str(fact_num )\n",
    "                        fact_num += 1\n",
    "                    cols.append(fact_name)\n",
    "                    values.append(fact_field.attrib[\"val\"])\n",
    "            one_row = pd.DataFrame([values], columns=cols)\n",
    "            calls = calls.append(one_row)\n",
    "            values = []\n",
    "            cols = []\n",
    "        except ValueError as e:\n",
    "            print(cols, values)\n",
    "            print(\"Value Error\", e)\n",
    "            print(e)\n",
    "            lineno = str(int(lead) + 2)\n",
    "            строки_с_ошибками[int(lead) + 2] = leads[lead]\n",
    "            print(\"Ошибка в строке \" + lineno + \" исходных данных.\\n\", leads[lead])\n",
    "        except AssertionError as e:\n",
    "\n",
    "            print(\"Assertion Error\", e)\n",
    "            lineno = str(int(lead) + 2)\n",
    "            строки_с_ошибками[int(lead) + 2] = leads[lead]\n",
    "            print(\"Ошибка в строке \" + lineno + \" исходных данных.\\n\", leads[lead])\n",
    "\n",
    "    calls[\"lead_id\"] = calls[\"lead_id\"].map(int)\n",
    "    calls = calls.sort_values(by=\"lead_id\")\n",
    "    calls = calls.set_index(\"lead_id\")\n",
    "    return calls\n"
   ]
  },
  {
   "cell_type": "code",
   "execution_count": 5,
   "metadata": {
    "collapsed": false,
    "scrolled": true
   },
   "outputs": [],
   "source": [
    "# calls = make_common_table()\n",
    "# calls.to_excel(\"common_table.xlsx\")\n",
    "# calls.columns"
   ]
  },
  {
   "cell_type": "code",
   "execution_count": 6,
   "metadata": {
    "collapsed": false
   },
   "outputs": [],
   "source": [
    "def join_cols(source_df, cols):\n",
    "    to_col = cols[0]\n",
    "    for c in cols[1:]:\n",
    "        source_df[to_col].fillna(source_df[c], inplace=True)\n",
    "\n",
    "def prepare_for_vikup(source_df, cols_to_include):\n",
    "    to_handle = source_df.copy(deep=True)\n",
    "    to_handle = to_handle[to_handle[\"ActionType_Sell\"].notnull()]\n",
    "    cols_to_merge = [\"Matter_Other\", \"Matter_TV\"]\n",
    "    join_cols(to_handle, cols_to_merge)\n",
    "    return df(to_handle, columns=cols_to_include)\n",
    "\n",
    "def prepare_for_prodazha(source_df, cols_to_include):\n",
    "    to_handle = source_df.copy(deep=True)\n",
    "    to_handle = to_handle[to_handle[\"ActionType_Buy\"].notnull()]\n",
    "    cols_to_merge = [\"Matter_Other\", \"Matter_TV\"]\n",
    "    join_cols(to_handle, cols_to_merge)\n",
    "    return df(to_handle, columns=cols_to_include)\n",
    "\n",
    "\n",
    "def prepare_for_repare(source_df, cols_to_include):\n",
    "    to_handle = source_df.copy(deep=True)\n",
    "    to_handle = to_handle[to_handle[\"ActionType_Repare\"].notnull()]\n",
    "    cols_to_merge = [\"Matter_Tablet\", \"Matter_Phone\"]\n",
    "    join_cols(to_handle, cols_to_merge)\n",
    "    return df(to_handle, columns=cols_to_include)\n",
    "\n",
    "def prepare_for_pawn(source_df, cols_to_include):\n",
    "    to_handle = source_df.copy(deep=True)\n",
    "    to_handle = to_handle[to_handle[\"ActionType_Pawn\"].notnull()]\n",
    "    cols_to_merge = [\"Matter_Tablet\", \"Matter_Phone\"]\n",
    "    join_cols(to_handle, cols_to_merge)\n",
    "    return df(to_handle, columns=cols_to_include)\n",
    "\n",
    "def prepare_for_buryatia(source_df, cols_to_include):\n",
    "    to_handle = source_df.copy(deep=True)\n",
    "    cols_to_merge = [\"Matter_Other\", \"Matter_TV\"]\n",
    "    join_cols(to_handle, cols_to_merge)\n",
    "    return df(to_handle, columns=cols_to_include)\n",
    "\n",
    "\n",
    "def prepare_for_smswhatsapp(source_df, cols_to_include):\n",
    "    to_handle = source_df.copy(deep=True)\n",
    "    cols_to_merge = [\"Matter_Other\", \"Matter_TV\"]\n",
    "    join_cols(to_handle, cols_to_merge)\n",
    "    return df(to_handle, columns=cols_to_include)\n",
    "\n",
    "def prepare_for_unsorted(source_df):\n",
    "    to_handle = source_df.copy(deep=True)\n",
    "    actions = [a for a in to_handle.columns if a.startswith(\"ActionType\")]\n",
    "    not_existing_action = to_handle[actions[0]].isnull()\n",
    "    for a in actions[1:]:\n",
    "        not_existing_action &= to_handle[a].isnull();\n",
    "    return to_handle[not_existing_action]\n"
   ]
  },
  {
   "cell_type": "code",
   "execution_count": null,
   "metadata": {
    "collapsed": false
   },
   "outputs": [],
   "source": []
  },
  {
   "cell_type": "code",
   "execution_count": 7,
   "metadata": {
    "collapsed": false
   },
   "outputs": [],
   "source": [
    "colls_for_vikup_and_buryatia = [\n",
    "        \"CallDate_Date\", \n",
    "        \"CustomerPhone_Phone\", \n",
    "        \"Matter_Notebook\", \n",
    "        \"Matter_Tablet\", \n",
    "        \"Matter_Phone\",\n",
    "        \"Matter_Other\", \n",
    "        \"conversation\", \n",
    "    ] + EMPTY_COLS\n",
    "\n",
    "colls_for_prodazha = [\n",
    "    \"CallDate_Date\", \n",
    "    \"CustomerPhone_Phone\", \n",
    "    \"Matter_Notebook\", \n",
    "    \"Matter_Tablet\", \n",
    "    \"Matter_Phone\",\n",
    "    \"Matter_TV\",\n",
    "    \"Matter_Other\",\n",
    "    \"conversation\", \n",
    "] + EMPTY_COLS\n",
    "\n",
    "colls_for_repare = [\n",
    "    \"CallDate_Date\", \n",
    "    \"CustomerPhone_Phone\", \n",
    "    \"Matter_Notebook\", \n",
    "    \"Matter_Tablet\", \n",
    "    \"conversation\",\n",
    "    \"Разговор\",\n",
    "    \"Цена клиента\",\n",
    "    \"Наша цена\",\n",
    "    \"Решение клиента\"\n",
    "]\n",
    "\n",
    "colls_for_pawn = [\n",
    "    \"CallDate_Date\", \n",
    "    \"CustomerPhone_Phone\", \n",
    "    \"Matter_Notebook\", \n",
    "    \"Matter_Tablet\",\n",
    "    \"Matter_Other\",\n",
    "    \"conversation\",\n",
    "    \"Комплектация\",\n",
    "    \"Цена клиента\",\n",
    "    \"Наша цена\",\n",
    "    \"Решение клиента\"\n",
    "]"
   ]
  },
  {
   "cell_type": "code",
   "execution_count": null,
   "metadata": {
    "collapsed": false,
    "scrolled": true
   },
   "outputs": [],
   "source": []
  },
  {
   "cell_type": "code",
   "execution_count": 8,
   "metadata": {
    "collapsed": false
   },
   "outputs": [],
   "source": [
    "def make_excel():\n",
    "    calls = make_common_table()\n",
    "    \n",
    "    \n",
    "    for_ykt = calls[calls[\"CustomerPlace_Buryatia\"].isnull() &\n",
    "                      calls[\"Communication_SMS\"].isnull() & \n",
    "                      calls[\"Communication_WhatsApp\"].isnull()\n",
    "                      ]\n",
    "\n",
    "    for_buryatia = calls[calls[\"CustomerPlace_Buryatia\"].notnull() &\n",
    "                          calls[\"Communication_SMS\"].isnull() & \n",
    "                          calls[\"Communication_WhatsApp\"].isnull()\n",
    "                          ]\n",
    "\n",
    "    for_whatsapp = calls[calls[\"Communication_SMS\"].notnull() | \n",
    "                          calls[\"Communication_WhatsApp\"].notnull()\n",
    "                          ]\n",
    "\n",
    "    writer = pd.ExcelWriter(OUTPUT_EXCEL)\n",
    "\n",
    "    vikup = prepare_for_vikup(for_ykt, colls_for_vikup_and_buryatia)\n",
    "    prodazha = prepare_for_prodazha(for_ykt, colls_for_prodazha)\n",
    "    remont = prepare_for_repare(for_ykt, colls_for_repare)\n",
    "    lombard = prepare_for_pawn(for_ykt, colls_for_pawn)\n",
    "    buryatia = prepare_for_buryatia(for_buryatia, colls_for_vikup_and_buryatia)\n",
    "    smswhatsapp = prepare_for_smswhatsapp(for_whatsapp, colls_for_vikup_and_buryatia)\n",
    "    without_action = prepare_for_unsorted(calls)\n",
    "    \n",
    "    vikup.to_excel(writer, sheet_name = \"Выкуп\", index=False)\n",
    "    prodazha.to_excel(writer, sheet_name = \"Продажа\", index=False)\n",
    "    remont.to_excel(writer, sheet_name = \"Ремонт\", index=False)\n",
    "    lombard.to_excel(writer, sheet_name = \"Ломбард\", index=False)\n",
    "    buryatia.to_excel(writer, sheet_name = \"Бурятия\", index=False)\n",
    "    smswhatsapp.to_excel(writer, sheet_name = \"smswhatsapp\", index=False)\n",
    "    without_action.to_excel(writer, sheet_name = \"Действие не определено\", index=False)\n",
    "    writer.save()\n"
   ]
  },
  {
   "cell_type": "code",
   "execution_count": 9,
   "metadata": {
    "collapsed": false
   },
   "outputs": [],
   "source": [
    "def report():\n",
    "    num_lines = sum(1 for line in open(PREPROCESSED_INPUT))\n",
    "    percent_of_handled = len(calls) / num_lines * 100\n",
    "    print(\"Процент успешно обработанных данных:\", percent_of_handled)\n",
    "    print(\"Строки с ошибками (необработано): \", строки_с_ошибками)"
   ]
  },
  {
   "cell_type": "code",
   "execution_count": 10,
   "metadata": {
    "collapsed": true
   },
   "outputs": [],
   "source": [
    "def classify():\n",
    "    make_excel()\n",
    "    #report()"
   ]
  },
  {
   "cell_type": "code",
   "execution_count": 1,
   "metadata": {
    "collapsed": false
   },
   "outputs": [
    {
     "ename": "NameError",
     "evalue": "name 'classify' is not defined",
     "output_type": "error",
     "traceback": [
      "\u001b[1;31m---------------------------------------------------------------------------\u001b[0m",
      "\u001b[1;31mNameError\u001b[0m                                 Traceback (most recent call last)",
      "\u001b[1;32m<ipython-input-1-d81126f61b40>\u001b[0m in \u001b[0;36m<module>\u001b[1;34m()\u001b[0m\n\u001b[0;32m      1\u001b[0m \u001b[1;32mif\u001b[0m \u001b[0m__name__\u001b[0m \u001b[1;33m==\u001b[0m \u001b[1;34m\"__main__\"\u001b[0m\u001b[1;33m:\u001b[0m\u001b[1;33m\u001b[0m\u001b[0m\n\u001b[1;32m----> 2\u001b[1;33m     \u001b[0mclassify\u001b[0m\u001b[1;33m(\u001b[0m\u001b[1;33m)\u001b[0m\u001b[1;33m\u001b[0m\u001b[0m\n\u001b[0m",
      "\u001b[1;31mNameError\u001b[0m: name 'classify' is not defined"
     ]
    }
   ],
   "source": [
    "if __name__ == \"__main__\":\n",
    "    classify()"
   ]
  },
  {
   "cell_type": "code",
   "execution_count": null,
   "metadata": {
    "collapsed": true
   },
   "outputs": [],
   "source": []
  }
 ],
 "metadata": {
  "kernelspec": {
   "display_name": "Python 3",
   "language": "python",
   "name": "python3"
  },
  "language_info": {
   "codemirror_mode": {
    "name": "ipython",
    "version": 3
   },
   "file_extension": ".py",
   "mimetype": "text/x-python",
   "name": "python",
   "nbconvert_exporter": "python",
   "pygments_lexer": "ipython3",
   "version": "3.5.1"
  }
 },
 "nbformat": 4,
 "nbformat_minor": 0
}
