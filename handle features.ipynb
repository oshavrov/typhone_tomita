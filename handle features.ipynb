{
 "cells": [
  {
   "cell_type": "code",
   "execution_count": 51,
   "metadata": {
    "collapsed": false
   },
   "outputs": [],
   "source": [
    "import pandas as pd\n",
    "from pandas import DataFrame as df\n",
    "import xml.etree.ElementTree as ET\n",
    "import numpy as np\n",
    "import os\n",
    "import re\n",
    "from python_modules.constants import *\n",
    "from python_modules.prepare_for_excel import *"
   ]
  },
  {
   "cell_type": "code",
   "execution_count": null,
   "metadata": {
    "collapsed": true
   },
   "outputs": [],
   "source": []
  },
  {
   "cell_type": "code",
   "execution_count": 52,
   "metadata": {
    "collapsed": true
   },
   "outputs": [],
   "source": [
    "DATE_TEMPLATE = re.compile(r'\\d{2}.\\d{2}.\\d{4}')\n",
    "\n",
    "INPUT_FILE = os.path.normpath(r'IO\\output.xml')\n",
    "PREPROCESSED_INPUT = os.path.normpath(r'IO\\preprocessed_input.txt')\n",
    "OUTPUT_EXCEL = os.path.normpath(r'IO\\report.xlsx')\n",
    "DEBUG_EXCEL = os.path.normpath(r'debug\\common_table.xlsx')\n",
    "SAME_CATEGORY_DELIMITER = r'__'\n",
    "EMPTY_COLS = [\"Комплектация\", \"Цена клиента\", \"Наша цена\", \"Утилизация\", \"Решение клиента\"]"
   ]
  },
  {
   "cell_type": "code",
   "execution_count": 53,
   "metadata": {
    "collapsed": false,
    "scrolled": true
   },
   "outputs": [
    {
     "data": {
      "text/plain": [
       "'\\n   <b>\\n      <s>\\n         21.06.2016\\n         <P n0=\"\" lemma=\"89140580517\">89140580517</P>\\n         хочет\\n         <W n1=\"\" lemma=\"buy\">купить</W>\\n         <W n2=\"\" lemma=\"ноутбук\">ноутбук</W>\\n         за 17000 руб ездить\\n         <P n3=\"\" lemma=\"Якутия\">Якутия</P>\\n         .\\n      </s>\\n   </b>\\n'"
      ]
     },
     "execution_count": 53,
     "metadata": {},
     "output_type": "execute_result"
    }
   ],
   "source": [
    "tree = ET.parse(INPUT_FILE)\n",
    "\n",
    "строки_с_ошибками = dict()\n",
    "\n",
    "root = tree.getroot()\n",
    "r = root.findall(\"Lead\")\n",
    "\n",
    "def make_dict_of_leads(root=root):\n",
    "    dict_of_leads = dict();\n",
    "    for lead in root.iter('Lead'):\n",
    "        id = lead.attrib[\"id\"]\n",
    "\n",
    "        pulpy = ET.fromstring(lead.attrib[\"text\"])\n",
    "        source_sentence = pulpy.find(\"b\").find(\"s\")\n",
    "\n",
    "        remove_explicit_from_sentence(source_sentence)\n",
    "\n",
    "        text = ''.join(source_sentence.itertext())\n",
    "        dict_of_leads[id] = re.sub(r'\\.+$', '', text.strip());\n",
    "    return dict_of_leads\n",
    "\n",
    "def remove_explicit_from_sentence(xml_sentence):\n",
    "    \n",
    "    def remove_target_node(xml_sentence, target_template):\n",
    "        for node in xml_sentence:\n",
    "            if re.search(r'89991731204', node.attrib[\"lemma\"]):\n",
    "                print([t for t in node.itertext()])\n",
    "            if re.search(target_template, node.attrib[\"lemma\"]):\n",
    "                node.text = ''\n",
    "\n",
    "    # to remove\n",
    "    phoneno = re.compile(r'\\d{9,12}')\n",
    "    date = DATE_TEMPLATE\n",
    "    remove_target_node(xml_sentence, date)\n",
    "    remove_target_node(xml_sentence, phoneno)\n",
    "\n",
    "    \n",
    "\"\"\"\n",
    "   <b>\n",
    "      <s>\n",
    "         21.06.2016\n",
    "         <P n0=\"\" lemma=\"89140580517\">89140580517</P>\n",
    "         хочет\n",
    "         <W n1=\"\" lemma=\"buy\">купить</W>\n",
    "         <W n2=\"\" lemma=\"ноутбук\">ноутбук</W>\n",
    "         за 17000 руб ездить\n",
    "         <P n3=\"\" lemma=\"Якутия\">Якутия</P>\n",
    "         .\n",
    "      </s>\n",
    "   </b>\n",
    "\"\"\"\n"
   ]
  },
  {
   "cell_type": "code",
   "execution_count": 54,
   "metadata": {
    "collapsed": false
   },
   "outputs": [
    {
     "name": "stdout",
     "output_type": "stream",
     "text": [
      "['89991731204']\n",
      "[]\n"
     ]
    }
   ],
   "source": [
    "# todo: помнить о тексте лида. Там выделены факты прямо в разметке - полезно при выводе информации в веб-интерфейсе\n",
    "\n",
    "def compare_facts_to_leads(root=root):\n",
    "    facts_grouped_by_lead = dict()\n",
    "\n",
    "    for i in root.find(\"document\").find('facts'):\n",
    "        lead_id = i.attrib['LeadID']\n",
    "        if facts_grouped_by_lead.get(lead_id):\n",
    "            facts_grouped_by_lead[lead_id].append(i)\n",
    "        else:\n",
    "            facts_grouped_by_lead[lead_id] = [i]\n",
    "    return facts_grouped_by_lead\n",
    "\n",
    "def make_common_table():\n",
    "    calls = df()\n",
    "    \n",
    "    facts = compare_facts_to_leads()\n",
    "    leads = make_dict_of_leads()\n",
    "\n",
    "    for lead in facts:\n",
    "        try:\n",
    "            elems = facts[lead]\n",
    "            one_sentence = leads[lead]\n",
    "            cols = [\"lead_id\", \"conversation\"]\n",
    "            values = [lead, one_sentence]\n",
    "            fact_num = 0;\n",
    "            for fact in elems:\n",
    "                for fact_field in fact:\n",
    "                    fact_name = fact.tag + \"_\" + fact_field.tag\n",
    "                    if fact_name not in cols:\n",
    "                        fact_num = 0;\n",
    "                    else:\n",
    "                        fact_name += SAME_CATEGORY_DELIMITER + str(fact_num)\n",
    "                        fact_num += 1\n",
    "                    cols.append(fact_name)\n",
    "                    values.append(fact_field.attrib[\"val\"])\n",
    "            one_row = pd.DataFrame([values], columns=cols)\n",
    "            calls = calls.append(one_row)\n",
    "            values = []\n",
    "            cols = []\n",
    "        except ValueError as e:\n",
    "            print(cols, values)\n",
    "            print(\"Value Error\", e)\n",
    "            print(e)\n",
    "            lineno = str(int(lead) + 2)\n",
    "            строки_с_ошибками[int(lead) + 2] = leads[lead]\n",
    "            print(\"Ошибка в строке \" + lineno + \" исходных данных.\\n\", leads[lead])\n",
    "        except AssertionError as e:\n",
    "\n",
    "            print(\"Assertion Error\", e)\n",
    "            lineno = str(int(lead) + 2)\n",
    "            строки_с_ошибками[int(lead) + 2] = leads[lead]\n",
    "            print(\"Ошибка в строке \" + lineno + \" исходных данных.\\n\", leads[lead])\n",
    "\n",
    "    calls[\"lead_id\"] = calls[\"lead_id\"].map(int)\n",
    "    calls = calls.sort_values(by=\"lead_id\")\n",
    "    calls = calls.set_index(\"lead_id\")\n",
    "    return calls\n",
    "\n",
    "calls = make_common_table()\n",
    "calls.to_excel(DEBUG_EXCEL)"
   ]
  },
  {
   "cell_type": "code",
   "execution_count": 55,
   "metadata": {
    "collapsed": false
   },
   "outputs": [],
   "source": [
    "def make_excel():\n",
    "    calls = make_common_table()\n",
    "    \n",
    "    \n",
    "    for_ykt = calls[calls[\"CustomerPlace_Buryatia\"].isnull() &\n",
    "                      calls[\"Communication_SMS\"].isnull() & \n",
    "                      calls[\"Communication_WhatsApp\"].isnull()\n",
    "                      ]\n",
    "\n",
    "    for_buryatia = calls[calls[\"CustomerPlace_Buryatia\"].notnull() &\n",
    "                          calls[\"Communication_SMS\"].isnull() & \n",
    "                          calls[\"Communication_WhatsApp\"].isnull()\n",
    "                          ]\n",
    "\n",
    "    for_whatsapp = calls[calls[\"Communication_SMS\"].notnull() | \n",
    "                          calls[\"Communication_WhatsApp\"].notnull()\n",
    "                          ]\n",
    "\n",
    "    writer = pd.ExcelWriter(OUTPUT_EXCEL)\n",
    "\n",
    "    vikup = prepare_for_vikup(for_ykt, colls_for_vikup_and_buryatia)\n",
    "    prodazha = prepare_for_prodazha(for_ykt, colls_for_prodazha)\n",
    "    remont = prepare_for_repare(for_ykt, colls_for_repare)\n",
    "    lombard = prepare_for_pawn(for_ykt, colls_for_pawn)\n",
    "    buryatia = prepare_for_buryatia(for_buryatia, colls_for_vikup_and_buryatia)\n",
    "    smswhatsapp = prepare_for_smswhatsapp(for_whatsapp, colls_for_vikup_and_buryatia)\n",
    "    without_action = prepare_for_unsorted(calls)\n",
    "    \n",
    "    vikup.to_excel(writer, sheet_name = \"Выкуп\", index=False)\n",
    "    prodazha.to_excel(writer, sheet_name = \"Продажа\", index=False)\n",
    "    remont.to_excel(writer, sheet_name = \"Ремонт\", index=False)\n",
    "    lombard.to_excel(writer, sheet_name = \"Ломбард\", index=False)\n",
    "    buryatia.to_excel(writer, sheet_name = \"Бурятия\", index=False)\n",
    "    smswhatsapp.to_excel(writer, sheet_name = \"smswhatsapp\", index=False)\n",
    "    without_action.to_excel(writer, sheet_name = \"Действие не определено\", index=False)\n",
    "    writer.save()\n"
   ]
  },
  {
   "cell_type": "code",
   "execution_count": 56,
   "metadata": {
    "collapsed": false
   },
   "outputs": [],
   "source": [
    "def report():\n",
    "    num_lines = sum(1 for line in open(PREPROCESSED_INPUT))\n",
    "    percent_of_handled = len(calls) / num_lines * 100\n",
    "    print(\"Процент успешно обработанных данных:\", percent_of_handled)\n",
    "    print(\"Строки с ошибками (необработано): \", строки_с_ошибками)"
   ]
  },
  {
   "cell_type": "code",
   "execution_count": 57,
   "metadata": {
    "collapsed": true
   },
   "outputs": [],
   "source": [
    "def classify():\n",
    "    #make_excel()\n",
    "    #report()\n",
    "    pass"
   ]
  },
  {
   "cell_type": "code",
   "execution_count": 58,
   "metadata": {
    "collapsed": false
   },
   "outputs": [],
   "source": [
    "if __name__ == \"__main__\":\n",
    "    classify()"
   ]
  },
  {
   "cell_type": "code",
   "execution_count": null,
   "metadata": {
    "collapsed": true
   },
   "outputs": [],
   "source": []
  }
 ],
 "metadata": {
  "kernelspec": {
   "display_name": "Python 3",
   "language": "python",
   "name": "python3"
  },
  "language_info": {
   "codemirror_mode": {
    "name": "ipython",
    "version": 3
   },
   "file_extension": ".py",
   "mimetype": "text/x-python",
   "name": "python",
   "nbconvert_exporter": "python",
   "pygments_lexer": "ipython3",
   "version": "3.5.1"
  }
 },
 "nbformat": 4,
 "nbformat_minor": 0
}
