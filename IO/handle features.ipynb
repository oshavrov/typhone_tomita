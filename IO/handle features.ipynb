{
 "cells": [
  {
   "cell_type": "code",
   "execution_count": 94,
   "metadata": {
    "collapsed": false
   },
   "outputs": [],
   "source": [
    "import pandas as pd\n",
    "from pandas import DataFrame as df\n",
    "import xml.etree.ElementTree as ET\n",
    "import numpy as np\n",
    "import re\n"
   ]
  },
  {
   "cell_type": "code",
   "execution_count": 95,
   "metadata": {
    "collapsed": true
   },
   "outputs": [],
   "source": [
    "DATE_TEMPLATE = re.compile(r'\\d{2}\\.\\d{2}\\.\\d{4}')"
   ]
  },
  {
   "cell_type": "code",
   "execution_count": null,
   "metadata": {
    "collapsed": false
   },
   "outputs": [],
   "source": []
  },
  {
   "cell_type": "code",
   "execution_count": 96,
   "metadata": {
    "collapsed": false,
    "scrolled": true
   },
   "outputs": [
    {
     "data": {
      "text/plain": [
       "'купить ноутбук за 17000 руб ездить Якутия.'"
      ]
     },
     "execution_count": 96,
     "metadata": {},
     "output_type": "execute_result"
    }
   ],
   "source": [
    "tree = ET.parse('output.xml')\n",
    "root = tree.getroot()\n",
    "r = root.findall(\"Lead\")\n",
    "\n",
    "def make_dict_of_leads(root=root):\n",
    "    dict_of_leads = dict();\n",
    "    for lead in root.iter('Lead'):\n",
    "        id = lead.attrib[\"id\"]\n",
    "\n",
    "        pulpy = ET.fromstring(lead.attrib[\"text\"])\n",
    "        source_sentence = pulpy.find(\"b\").find(\"s\")\n",
    "\n",
    "        remove_explicit_from_sentence(source_sentence)\n",
    "\n",
    "        text = ''.join(source_sentence.itertext())\n",
    "        dict_of_leads[id] = text;\n",
    "    return dict_of_leads\n",
    "\n",
    "def remove_explicit_from_sentence(xml_sentence):\n",
    "    def remove_target_node(xml_sentence, target_template):\n",
    "        for node in xml_sentence:\n",
    "            if re.search(target_template, node.attrib[\"lemma\"]):\n",
    "                xml_sentence.remove(node)\n",
    "    # to remove\n",
    "    phoneno = re.compile(r'\\d{11}')\n",
    "    date = DATE_TEMPLATE\n",
    "\n",
    "    remove_target_node(xml_sentence, phoneno)\n",
    "    remove_target_node(xml_sentence, date)\n",
    "      \n",
    "    \n",
    "\n",
    "make_dict_of_leads()[\"46\"]\n",
    "\n",
    "one = make_dict_of_leads()['0']\n",
    "\n",
    "\n",
    "\"\"\"\n",
    "   <b>\n",
    "      <s>\n",
    "         21.06.2016\n",
    "         <P n0=\"\" lemma=\"89140580517\">89140580517</P>\n",
    "         хочет\n",
    "         <W n1=\"\" lemma=\"buy\">купить</W>\n",
    "         <W n2=\"\" lemma=\"ноутбук\">ноутбук</W>\n",
    "         за 17000 руб ездить\n",
    "         <P n3=\"\" lemma=\"Якутия\">Якутия</P>\n",
    "         .\n",
    "      </s>\n",
    "   </b>\n",
    "\"\"\"\n",
    "\n",
    "\n",
    "one"
   ]
  },
  {
   "cell_type": "code",
   "execution_count": null,
   "metadata": {
    "collapsed": true
   },
   "outputs": [],
   "source": []
  },
  {
   "cell_type": "code",
   "execution_count": 133,
   "metadata": {
    "collapsed": false
   },
   "outputs": [
    {
     "data": {
      "text/plain": [
       "0      NaN\n",
       "0      NaN\n",
       "0    phone\n",
       "0      NaN\n",
       "0      NaN\n",
       "0      NaN\n",
       "0    phone\n",
       "0      NaN\n",
       "0      NaN\n",
       "0      NaN\n",
       "0      NaN\n",
       "0    phone\n",
       "0      NaN\n",
       "0      NaN\n",
       "0    phone\n",
       "0      NaN\n",
       "0      NaN\n",
       "0      NaN\n",
       "0      NaN\n",
       "0      NaN\n",
       "0      NaN\n",
       "0      NaN\n",
       "0      NaN\n",
       "0    phone\n",
       "0      NaN\n",
       "0    phone\n",
       "0      NaN\n",
       "0      NaN\n",
       "0      NaN\n",
       "0      NaN\n",
       "     ...  \n",
       "0      NaN\n",
       "0      NaN\n",
       "0    phone\n",
       "0      NaN\n",
       "0      NaN\n",
       "0      NaN\n",
       "0    phone\n",
       "0      NaN\n",
       "0      NaN\n",
       "0    phone\n",
       "0      NaN\n",
       "0      NaN\n",
       "0    phone\n",
       "0      NaN\n",
       "0      NaN\n",
       "0      NaN\n",
       "0      NaN\n",
       "0      NaN\n",
       "0    phone\n",
       "0    phone\n",
       "0      NaN\n",
       "0      NaN\n",
       "0    phone\n",
       "0    phone\n",
       "0      NaN\n",
       "0    phone\n",
       "0      NaN\n",
       "0    phone\n",
       "0      NaN\n",
       "0    phone\n",
       "Name: phone, dtype: object"
      ]
     },
     "execution_count": 133,
     "metadata": {},
     "output_type": "execute_result"
    }
   ],
   "source": [
    "# todo: помнить о тексте лида. Там выделены факты прямо в разметке - полезно при выводе информации в веб-интерфейсе\n",
    "\n",
    "def compare_facts_to_leads(root=root):\n",
    "    facts_grouped_by_lead = dict()\n",
    "\n",
    "    for i in root.find(\"document\").find('facts'):\n",
    "        lead_id = i.attrib['LeadID']\n",
    "        if facts_grouped_by_lead.get(lead_id):\n",
    "            facts_grouped_by_lead[lead_id].append(i)\n",
    "        else:\n",
    "            facts_grouped_by_lead[lead_id] = [i]\n",
    "    return facts_grouped_by_lead\n",
    "\n",
    "def make_common_table():\n",
    "    appendix = [\n",
    "        \"Notebook_Word\",\n",
    "        \"Notebook_Vendor\",\n",
    "        \"Notebook_Model\",\n",
    "        \"Notebook_UserDefinedName\",\n",
    "        'Phone_Word',\n",
    "        'Phone_Vendor',\n",
    "        'Phone_Model',\n",
    "        'Phone_UserDefinedName'\n",
    "        'notebook'\n",
    "    ]\n",
    "    calls = df(columns=appendix)\n",
    "    \n",
    "    facts = compare_facts_to_leads()\n",
    "    leads = make_dict_of_leads()\n",
    "\n",
    "    for lead in facts:\n",
    "        try:\n",
    "            elems = facts[lead]\n",
    "            one_sentence = leads[lead]\n",
    "            cols = [\"conversation\"]\n",
    "            values = [one_sentence]\n",
    "            for fact_name in elems:\n",
    "                for fact_field in fact_name:\n",
    "                    cols.append(fact_name.tag + \"_\" + fact_field.tag)\n",
    "                    values.append(fact_field.attrib[\"val\"])\n",
    "            one_row = pd.DataFrame([values], columns=cols)\n",
    "            calls = calls.append(one_row)\n",
    "\n",
    "            values = []\n",
    "            cols = []\n",
    "        except ValueError:\n",
    "            print(lead, leads[lead])\n",
    "    return calls;\n",
    "\n",
    "calls = make_common_table()\n",
    "\n",
    "# union\n",
    "\n",
    "to_notebook = lambda x: \"notebook\" if (x is not np.nan) else np.nan\n",
    "to_phone = lambda x: \"phone\" if (x is not np.nan) else np.nan\n",
    "\n",
    "calls[\"notebook\"] = calls[\"Notebook_Word\"].map(to_notebook)\n",
    "calls[\"notebook\"].update(calls[\"Notebook_Model\"].map(to_phone))\n",
    "calls[\"notebook\"].update(calls[\"Notebook_UserDefinedName\"].map(to_notebook))\n",
    "calls[\"notebook\"].update(calls[\"Notebook_Vendor\"].map(to_notebook))\n",
    "\n",
    "calls[\"phone\"] = calls[\"Phone_Word\"].map(to_phone)\n",
    "calls[\"phone\"].update(calls[\"Phone_UserDefinedName\"].map(to_phone))\n",
    "calls[\"phone\"].update(calls[\"Phone_Model\"].map(to_phone))\n",
    "calls[\"phone\"].update(calls[\"Phone_Vendor\"].map(to_phone))\n",
    "\n",
    "calls.drop(['Notebook_Word', 'Notebook_Vendor', 'Notebook_Model', 'Notebook_UserDefinedName'], axis=1, inplace=True)\n",
    "calls.drop(['Phone_Word', 'Phone_Vendor', 'Phone_Model', 'Phone_UserDefinedName'], axis=1, inplace=True)\n",
    "\n",
    "\n",
    "# pawn = calls[calls.Pawn_Word.notnull()]\n",
    "# buy_out = calls[calls.CustomerBuys_Word.notnull()]\n",
    "# buy_out.to_excel(\"buy_out.xlsx\")\n",
    "# pawn.to_excel(\"pawn.xlsx\")\n",
    "# repare = calls[calls.Repare_Word.notnull()]\n",
    "# repare.to_excel(\"repare.xlsx\")\n"
   ]
  },
  {
   "cell_type": "code",
   "execution_count": null,
   "metadata": {
    "collapsed": false
   },
   "outputs": [],
   "source": [
    "\n"
   ]
  },
  {
   "cell_type": "code",
   "execution_count": null,
   "metadata": {
    "collapsed": true
   },
   "outputs": [],
   "source": []
  }
 ],
 "metadata": {
  "kernelspec": {
   "display_name": "Python 3",
   "language": "python",
   "name": "python3"
  },
  "language_info": {
   "codemirror_mode": {
    "name": "ipython",
    "version": 3
   },
   "file_extension": ".py",
   "mimetype": "text/x-python",
   "name": "python",
   "nbconvert_exporter": "python",
   "pygments_lexer": "ipython3",
   "version": "3.5.1"
  }
 },
 "nbformat": 4,
 "nbformat_minor": 0
}
