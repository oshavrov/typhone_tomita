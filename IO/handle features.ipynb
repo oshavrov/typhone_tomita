{
 "cells": [
  {
   "cell_type": "code",
   "execution_count": 236,
   "metadata": {
    "collapsed": false
   },
   "outputs": [],
   "source": [
    "import pandas as pd\n",
    "from pandas import DataFrame as df\n",
    "import xml.etree.ElementTree as ET\n",
    "import numpy as np"
   ]
  },
  {
   "cell_type": "code",
   "execution_count": 237,
   "metadata": {
    "collapsed": false
   },
   "outputs": [
    {
     "data": {
      "text/html": [
       "<div>\n",
       "<table border=\"1\" class=\"dataframe\">\n",
       "  <thead>\n",
       "    <tr style=\"text-align: right;\">\n",
       "      <th></th>\n",
       "      <th>date</th>\n",
       "      <th>phone_number</th>\n",
       "      <th>notebook</th>\n",
       "      <th>tablet</th>\n",
       "      <th>phone</th>\n",
       "      <th>spare_part</th>\n",
       "      <th>conversation</th>\n",
       "      <th>customer_price</th>\n",
       "      <th>our_price</th>\n",
       "      <th>recycle</th>\n",
       "      <th>customer_decision</th>\n",
       "    </tr>\n",
       "  </thead>\n",
       "  <tbody>\n",
       "  </tbody>\n",
       "</table>\n",
       "</div>"
      ],
      "text/plain": [
       "Empty DataFrame\n",
       "Columns: [date, phone_number, notebook, tablet, phone, spare_part, conversation, customer_price, our_price, recycle, customer_decision]\n",
       "Index: []"
      ]
     },
     "execution_count": 237,
     "metadata": {},
     "output_type": "execute_result"
    }
   ],
   "source": [
    "buy_out = df(columns=[\"date\",\n",
    "                      \"phone_number\",\n",
    "                      \"notebook\",\n",
    "                      \"tablet\",\n",
    "                      \"phone\",\n",
    "                      \"spare_part\",\n",
    "                      \"conversation\",\n",
    "                      \"customer_price\",\n",
    "                      \"our_price\",\n",
    "                      \"recycle\",\n",
    "                      \"customer_decision\"])\n",
    "\n",
    "\n",
    "buy_out"
   ]
  },
  {
   "cell_type": "code",
   "execution_count": 238,
   "metadata": {
    "collapsed": false,
    "scrolled": true
   },
   "outputs": [
    {
     "data": {
      "text/plain": [
       "'89140580517 продажа айфон6s на выезде Ляпидевского 12.'"
      ]
     },
     "execution_count": 238,
     "metadata": {},
     "output_type": "execute_result"
    }
   ],
   "source": [
    "tree = ET.parse('output.xml')\n",
    "root = tree.getroot()\n",
    "r = root.findall(\"Lead\")\n",
    "\n",
    "def make_dict_of_leads(root=root):\n",
    "    dict_of_leads = dict();\n",
    "    for lead in root.iter('Lead'):\n",
    "        id = lead.attrib[\"id\"]\n",
    "\n",
    "        pulpy = ET.fromstring(lead.attrib[\"text\"])\n",
    "        source_sentence = pulpy.find(\"b\").find(\"s\");\n",
    "        text = \"\";\n",
    "        for i in source_sentence.itertext():\n",
    "            text += i;\n",
    "        dict_of_leads[id] = text;\n",
    "    return dict_of_leads;\n",
    "\n",
    "make_dict_of_leads()[\"46\"]"
   ]
  },
  {
   "cell_type": "code",
   "execution_count": 243,
   "metadata": {
    "collapsed": false
   },
   "outputs": [],
   "source": [
    "# todo: помнить о тексте лида. Там выделены факты прямо в разметке - полезно при выводе информации в веб-интерфейсе\n",
    "\n",
    "def compare_facts_to_leads(root=root):\n",
    "    facts_grouped_by_lead = dict()\n",
    "\n",
    "    for i in root.find(\"document\").find('facts'):\n",
    "        lead_id = i.attrib['LeadID']\n",
    "        if facts_grouped_by_lead.get(lead_id):\n",
    "            facts_grouped_by_lead[lead_id].append(i)\n",
    "        else:\n",
    "            facts_grouped_by_lead[lead_id] = [i]\n",
    "    return facts_grouped_by_lead\n",
    "\n",
    "def make_common_table():    \n",
    "    calls = df(columns=[\n",
    "            \"CustomerPhone_Phone\",\n",
    "            \"CustomerPlace_Place\",\n",
    "            \"Buy_Word\",\n",
    "            \"Pawn_Word\",\n",
    "            \"Notebook_Word\",\n",
    "            \"Notebook_Vendor\",\n",
    "            \"Notebook_Model\",\n",
    "            \"Notebook_UserDefinedName\",\n",
    "            \"Phone_Word\",\n",
    "            \"Phone_Vendor\",\n",
    "            \"Phone_Model\",\n",
    "            \"Phone_UserDefinedName\",\n",
    "            \"source_sentence\"\n",
    "        ])\n",
    "\n",
    "    facts = compare_facts_to_leads()\n",
    "    leads = make_dict_of_leads()\n",
    "    for lead in facts:\n",
    "        elems = facts[lead]\n",
    "        one_sentence = lead\n",
    "        cols = []\n",
    "        values = []\n",
    "        for fact_name in elems:\n",
    "            for fact_field in fact_name:\n",
    "                cols.append(fact_name.tag + \"_\" + fact_field.tag)\n",
    "                values.append(fact_field.attrib[\"val\"])\n",
    "        one_row = pd.DataFrame([values], columns=cols)\n",
    "        calls = calls.append(one_row)\n",
    "\n",
    "        values = []\n",
    "        cols = []\n",
    "    return calls;\n",
    "\n",
    "calls = make_common_table()\n",
    "\n",
    "pawn = calls[calls.Pawn_Word.notnull()]\n",
    "buy_out = calls[calls.Buy_Word.notnull()]\n",
    "buy_out.to_excel(\"buy_out.xlsx\")\n",
    "pawn.to_excel(\"pawn.xlsx\")\n",
    "\n",
    "to_str = lambda x: \" \" + x if x is not np.nan else \"\"\n",
    "calls[\"notebook\"] = calls[\"Notebook_Word\"] + calls[\"Notebook_Vendor\"].map(to_str) + calls[\"Notebook_Model\"].map(to_str)\n",
    "calls[\"phone\"] = calls[\"Phone_Word\"] + calls[\"Phone_Vendor\"].map(to_str) + calls[\"Phone_Model\"].map(to_str)\n",
    "\n",
    "calls.drop(['Notebook_Word', 'Notebook_Vendor', 'Notebook_Model'], axis=1, inplace=True)\n",
    "calls.drop(['Phone_Word', 'Phone_Vendor', 'Phone_Model'], axis=1, inplace=True)\n",
    "\n",
    "calls.to_excel(\"whole_table.xlsx\")"
   ]
  },
  {
   "cell_type": "code",
   "execution_count": null,
   "metadata": {
    "collapsed": true
   },
   "outputs": [],
   "source": []
  }
 ],
 "metadata": {
  "kernelspec": {
   "display_name": "Python 3",
   "language": "python",
   "name": "python3"
  },
  "language_info": {
   "codemirror_mode": {
    "name": "ipython",
    "version": 3
   },
   "file_extension": ".py",
   "mimetype": "text/x-python",
   "name": "python",
   "nbconvert_exporter": "python",
   "pygments_lexer": "ipython3",
   "version": "3.5.1"
  }
 },
 "nbformat": 4,
 "nbformat_minor": 0
}
