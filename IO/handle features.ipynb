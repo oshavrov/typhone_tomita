{
 "cells": [
  {
   "cell_type": "code",
   "execution_count": 34,
   "metadata": {
    "collapsed": false
   },
   "outputs": [],
   "source": [
    "import pandas as pd\n",
    "from pandas import DataFrame as df\n",
    "import xml.etree.ElementTree as ET\n",
    "import numpy as np\n",
    "import re"
   ]
  },
  {
   "cell_type": "code",
   "execution_count": 35,
   "metadata": {
    "collapsed": true
   },
   "outputs": [],
   "source": [
    "DATE_TEMPLATE = re.compile(r'\\d{2}\\.\\d{2}\\.\\d{4}')"
   ]
  },
  {
   "cell_type": "code",
   "execution_count": null,
   "metadata": {
    "collapsed": false
   },
   "outputs": [],
   "source": []
  },
  {
   "cell_type": "code",
   "execution_count": 108,
   "metadata": {
    "collapsed": false,
    "scrolled": true
   },
   "outputs": [
    {
     "data": {
      "text/plain": [
       "'21.06.2016 купить ноутбук за 17000 руб ездить Якутия.'"
      ]
     },
     "execution_count": 108,
     "metadata": {},
     "output_type": "execute_result"
    }
   ],
   "source": [
    "tree = ET.parse('output.xml')\n",
    "root = tree.getroot()\n",
    "r = root.findall(\"Lead\")\n",
    "\n",
    "def make_dict_of_leads(root=root):\n",
    "    dict_of_leads = dict();\n",
    "    for lead in root.iter('Lead'):\n",
    "        id = lead.attrib[\"id\"]\n",
    "\n",
    "        pulpy = ET.fromstring(lead.attrib[\"text\"])\n",
    "        source_sentence = pulpy.find(\"b\").find(\"s\")\n",
    "\n",
    "        remove_explicit_from_sentence(source_sentence)\n",
    "\n",
    "        text = ''.join(source_sentence.itertext())\n",
    "        \n",
    "        \n",
    "    \n",
    "        dict_of_leads[id] = text;\n",
    "        \n",
    "        \n",
    "    return dict_of_leads;\n",
    "\n",
    "def remove_explicit_from_sentence(xml_sentence):\n",
    "    # to remove\n",
    "    phoneno = re.compile(r'\\d{11}')\n",
    "\n",
    "    for i in xml_sentence:\n",
    "        if re.match(phoneno, i.attrib[\"lemma\"]):\n",
    "            xml_sentence.remove(i)\n",
    "    \n",
    "\n",
    "make_dict_of_leads()[\"46\"]\n",
    "\n",
    "one = make_dict_of_leads()['0']\n",
    "\n",
    "\n",
    "\"\"\"\n",
    "   <b>\n",
    "      <s>\n",
    "         21.06.2016\n",
    "         <P n0=\"\" lemma=\"89140580517\">89140580517</P>\n",
    "         хочет\n",
    "         <W n1=\"\" lemma=\"buy\">купить</W>\n",
    "         <W n2=\"\" lemma=\"ноутбук\">ноутбук</W>\n",
    "         за 17000 руб ездить\n",
    "         <P n3=\"\" lemma=\"Якутия\">Якутия</P>\n",
    "         .\n",
    "      </s>\n",
    "   </b>\n",
    "\"\"\"\n",
    "\n",
    "\n",
    "one"
   ]
  },
  {
   "cell_type": "code",
   "execution_count": 38,
   "metadata": {
    "collapsed": false
   },
   "outputs": [
    {
     "name": "stdout",
     "output_type": "stream",
     "text": [
      "27.06.2016 89140580517 спр адрес наш.\n",
      "24.06.2016 89140580517 продажа т samsung a5 на выезде Ляпидевского 12.\n",
      "28.06.2016 89140580517 неадекват.\n",
      "21.06.2016 89140580517 куп тел 27.\n",
      "22.06.2016 89140580517 куп 12 выезд Широких-Полянского 27, Виталий.\n",
      "23.06.2016 89140580517 s Acer V5 17 зац.\n",
      "24.06.2016 89140580517 продажа тел samsung на выезде Ляпидевского 12.\n",
      "29.06.2016 89140580517 ватсап ломбард ноут цена оператора 4000.\n",
      "24.06.2016 89140580517 продажа т samsung а5 на выезде Ляпидевского 12.\n",
      "24.06.2016 89140580517 продажа айфон6s на выезде Ляпидевского 12.\n",
      "23.06.2016 89140580517 прод Асер офисный предложил 3000 зацепка.\n",
      "21.06.2016 89140580517 куп 12.\n",
      "24.06.2016 89140580517 продажа тел айфон 6s на выезде Ляпидевского 12.\n",
      "23.06.2016 89140580517 ломб Асер 5733 наша цена 5000.\n",
      "24.06.2016 89140580517 продажа samsung на выезде Ляпидевского 12.\n",
      "21.06.2016 89140580517 куп 30.\n",
      "29.06.2016 89140580517 ватсапп тв продать зацепка.\n",
      "22.06.2016 89140580517 покупает 17 зац.\n",
      "21.06.2016 89140580517 уу ноутбук купить за 17000 руб.\n",
      "23.06.2016 89140580517 продажа ноут Асер 2234 - ( наш отказ | мы отказались | отказал ) слишком старый.\n",
      "22.06.2016 89140580517 купля 17 зац.\n",
      "22.06.2016 89140580517 № к 17 зац.\n",
      "23.06.2016 89140580517 продаёт Samsung NP305E5A ноут предложила 3000 зацепка.\n",
      "23.06.2016 89140580517 ломб сони хперия хперия з3.\n",
      "22.06.2016 89140580517 b 17 зац.\n",
      "28.06.2016 89140580517 сбой связи.\n",
      "21.06.2016 89140580517 ноут уу купить за 17000 руб.\n",
      "29.06.2016 89140580517 модуль памяти.\n",
      "22.06.2016 89140580517 куп 17 зац.\n",
      "23.06.2016 89140580517 ломб тел сони хперия з3.\n",
      "23.06.2016 89140580517 прод Асер офисный предложил 3000 зацепка.\n",
      "21.06.2016 89140580517 куп телефон 27.\n",
      "29.06.2016 89140580517.\n",
      "22.06.2016 89140580517 хочет приобрести 17 зац.\n",
      "29.06.2016 89140580517 жесткий диск купить 320.\n",
      "22.06.2016 89140580517 buy 17 зац.\n",
      "27.06.2016 89140580517 перевод звонка в Якутию спросить покупаем ли бензопилы.\n",
      "21.06.2016 Якутия 89140580517 купить ноутбук за 17000 руб.\n",
      "23.06.2016 89140580517 № п Samsung NP300E5A ноут предложила 2000 отказ.\n",
      "24.06.2016 89140580517 продажа айфон6s на выезде Ляпидевского 12.\n",
      "27.06.2016 89140580517 спр адрес в Бурятии.\n",
      "23.06.2016 89140580517 ломб сони хперия з3.\n",
      "23.06.2016 89140580517 продает Асер 2234 - отказ слишком старый.\n",
      "29.06.2016 29.06.2016 89140580517 замена клавиатуры Acer Aspire V3-571G.\n",
      "21.06.2016 89140580517 хочет купить ноутбук за 17000 руб ездить Якутия.\n",
      "24.06.2016 89140580517 продажа Samsung Grand Prime на выезде Ляпидевского 12.\n",
      "29.06.2016 89140580517.\n",
      "24.06.2016 89140580517 продажа т самсунг на выезде Ляпидевского 12.\n",
      "23.06.2016 89140580517 прод Асер офисный предложил 3000 зацепка.\n",
      "23.06.2016 89140580517 продаст Асер офисный предложил 3000 зацепка.\n",
      "22.06.2016 89140580517 покупка 17 зац.\n",
      "23.06.2016 89140580517 sell Acer Aspire зац.\n",
      "24.06.2016 89140580517 продажа Sony M4 Aqua на выезде Ляпидевского 12.\n",
      "23.06.2016 89140580517 ломб ноут Асер 5733 наша цена 5000.\n",
      "24.06.2016 89140580517 продажа тел самсунг на выезде Ляпидевского 12.\n"
     ]
    },
    {
     "ename": "AttributeError",
     "evalue": "'DataFrame' object has no attribute 'Buy_Word'",
     "output_type": "error",
     "traceback": [
      "\u001b[1;31m---------------------------------------------------------------------------\u001b[0m",
      "\u001b[1;31mAttributeError\u001b[0m                            Traceback (most recent call last)",
      "\u001b[1;32m<ipython-input-38-61c8cd85d575>\u001b[0m in \u001b[0;36m<module>\u001b[1;34m()\u001b[0m\n\u001b[0;32m     51\u001b[0m \u001b[1;33m\u001b[0m\u001b[0m\n\u001b[0;32m     52\u001b[0m \u001b[0mpawn\u001b[0m \u001b[1;33m=\u001b[0m \u001b[0mcalls\u001b[0m\u001b[1;33m[\u001b[0m\u001b[0mcalls\u001b[0m\u001b[1;33m.\u001b[0m\u001b[0mPawn_Word\u001b[0m\u001b[1;33m.\u001b[0m\u001b[0mnotnull\u001b[0m\u001b[1;33m(\u001b[0m\u001b[1;33m)\u001b[0m\u001b[1;33m]\u001b[0m\u001b[1;33m\u001b[0m\u001b[0m\n\u001b[1;32m---> 53\u001b[1;33m \u001b[0mbuy_out\u001b[0m \u001b[1;33m=\u001b[0m \u001b[0mcalls\u001b[0m\u001b[1;33m[\u001b[0m\u001b[0mcalls\u001b[0m\u001b[1;33m.\u001b[0m\u001b[0mBuy_Word\u001b[0m\u001b[1;33m.\u001b[0m\u001b[0mnotnull\u001b[0m\u001b[1;33m(\u001b[0m\u001b[1;33m)\u001b[0m\u001b[1;33m]\u001b[0m\u001b[1;33m\u001b[0m\u001b[0m\n\u001b[0m\u001b[0;32m     54\u001b[0m \u001b[0mbuy_out\u001b[0m\u001b[1;33m.\u001b[0m\u001b[0mto_excel\u001b[0m\u001b[1;33m(\u001b[0m\u001b[1;34m\"buy_out.xlsx\"\u001b[0m\u001b[1;33m)\u001b[0m\u001b[1;33m\u001b[0m\u001b[0m\n\u001b[0;32m     55\u001b[0m \u001b[0mpawn\u001b[0m\u001b[1;33m.\u001b[0m\u001b[0mto_excel\u001b[0m\u001b[1;33m(\u001b[0m\u001b[1;34m\"pawn.xlsx\"\u001b[0m\u001b[1;33m)\u001b[0m\u001b[1;33m\u001b[0m\u001b[0m\n",
      "\u001b[1;32mC:\\Users\\saul\\Anaconda3\\lib\\site-packages\\pandas\\core\\generic.py\u001b[0m in \u001b[0;36m__getattr__\u001b[1;34m(self, name)\u001b[0m\n\u001b[0;32m   2358\u001b[0m                 \u001b[1;32mreturn\u001b[0m \u001b[0mself\u001b[0m\u001b[1;33m[\u001b[0m\u001b[0mname\u001b[0m\u001b[1;33m]\u001b[0m\u001b[1;33m\u001b[0m\u001b[0m\n\u001b[0;32m   2359\u001b[0m             raise AttributeError(\"'%s' object has no attribute '%s'\" %\n\u001b[1;32m-> 2360\u001b[1;33m                                  (type(self).__name__, name))\n\u001b[0m\u001b[0;32m   2361\u001b[0m \u001b[1;33m\u001b[0m\u001b[0m\n\u001b[0;32m   2362\u001b[0m     \u001b[1;32mdef\u001b[0m \u001b[0m__setattr__\u001b[0m\u001b[1;33m(\u001b[0m\u001b[0mself\u001b[0m\u001b[1;33m,\u001b[0m \u001b[0mname\u001b[0m\u001b[1;33m,\u001b[0m \u001b[0mvalue\u001b[0m\u001b[1;33m)\u001b[0m\u001b[1;33m:\u001b[0m\u001b[1;33m\u001b[0m\u001b[0m\n",
      "\u001b[1;31mAttributeError\u001b[0m: 'DataFrame' object has no attribute 'Buy_Word'"
     ]
    }
   ],
   "source": [
    "# todo: помнить о тексте лида. Там выделены факты прямо в разметке - полезно при выводе информации в веб-интерфейсе\n",
    "\n",
    "def compare_facts_to_leads(root=root):\n",
    "    facts_grouped_by_lead = dict()\n",
    "\n",
    "    for i in root.find(\"document\").find('facts'):\n",
    "        lead_id = i.attrib['LeadID']\n",
    "        if facts_grouped_by_lead.get(lead_id):\n",
    "            facts_grouped_by_lead[lead_id].append(i)\n",
    "        else:\n",
    "            facts_grouped_by_lead[lead_id] = [i]\n",
    "    return facts_grouped_by_lead\n",
    "\n",
    "def make_common_table():    \n",
    "    appendix = [\n",
    "        \"date\",\n",
    "        \"conversation\",\n",
    "        \"source_sentence\"\n",
    "    ]\n",
    "    calls = df(columns=appendix)\n",
    "    \n",
    "    facts = compare_facts_to_leads()\n",
    "    leads = make_dict_of_leads()\n",
    "    for lead in facts:\n",
    "        elems = facts[lead]\n",
    "        print(leads[lead])\n",
    "        one_sentence = lead\n",
    "        cols = []\n",
    "        values = []\n",
    "        for fact_name in elems:\n",
    "            for fact_field in fact_name:\n",
    "                cols.append(fact_name.tag + \"_\" + fact_field.tag)\n",
    "                values.append(fact_field.attrib[\"val\"])\n",
    "        one_row = pd.DataFrame([values], columns=cols)\n",
    "        calls = calls.append(one_row)\n",
    "\n",
    "        values = []\n",
    "        cols = []\n",
    "    return calls;\n",
    "\n",
    "calls = make_common_table()\n",
    "\n",
    "\n",
    "to_str = lambda x: \" \" + x if x is not np.nan else \"\"\n",
    "calls[\"notebook\"] = calls[\"Notebook_Word\"] + calls[\"Notebook_Vendor\"].map(to_str)\n",
    "calls[\"phone\"] = calls[\"Phone_Word\"] + calls[\"Phone_Vendor\"].map(to_str) + calls[\"Phone_Model\"].map(to_str)\n",
    "\n",
    "calls.drop(['Notebook_Word', 'Notebook_Vendor'], axis=1, inplace=True)\n",
    "calls.drop(['Phone_Word', 'Phone_Vendor', 'Phone_Model'], axis=1, inplace=True)\n",
    "\n",
    "\n",
    "pawn = calls[calls.Pawn_Word.notnull()]\n",
    "buy_out = calls[calls.Buy_Word.notnull()]\n",
    "buy_out.to_excel(\"buy_out.xlsx\")\n",
    "pawn.to_excel(\"pawn.xlsx\")\n",
    "\n",
    "calls.to_excel(\"whole_table.xlsx\")"
   ]
  },
  {
   "cell_type": "code",
   "execution_count": 22,
   "metadata": {
    "collapsed": false
   },
   "outputs": [],
   "source": [
    "date_string = \"\"\n",
    "\n",
    "f = open(\"manual_input.txt\", \"r\", encoding=\"utf8\")\n",
    "preprocessed_input = open(\"preprocessed_input.txt\", \"w\", encoding=\"utf8\")\n",
    "ff = f.read().splitlines()\n",
    "\n",
    "for i in ff:\n",
    "    if re.match(DATE_TEMPLATE, i) is not None:\n",
    "        date_string = i\n",
    "    else:\n",
    "        preprocessed_input.write(date_string + \" \" + i + \"\\n\")\n",
    "f.close()\n",
    "preprocessed_input.close()\n"
   ]
  },
  {
   "cell_type": "code",
   "execution_count": null,
   "metadata": {
    "collapsed": true
   },
   "outputs": [],
   "source": []
  }
 ],
 "metadata": {
  "kernelspec": {
   "display_name": "Python 3",
   "language": "python",
   "name": "python3"
  },
  "language_info": {
   "codemirror_mode": {
    "name": "ipython",
    "version": 3
   },
   "file_extension": ".py",
   "mimetype": "text/x-python",
   "name": "python",
   "nbconvert_exporter": "python",
   "pygments_lexer": "ipython3",
   "version": "3.5.1"
  }
 },
 "nbformat": 4,
 "nbformat_minor": 0
}
