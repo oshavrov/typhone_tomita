{
 "cells": [
  {
   "cell_type": "code",
   "execution_count": 5,
   "metadata": {
    "collapsed": true
   },
   "outputs": [],
   "source": [
    "import pandas as pd\n",
    "from pandas import DataFrame as df\n",
    "import xml.etree.ElementTree as ET"
   ]
  },
  {
   "cell_type": "code",
   "execution_count": 6,
   "metadata": {
    "collapsed": false
   },
   "outputs": [
    {
     "data": {
      "text/html": [
       "<div>\n",
       "<table border=\"1\" class=\"dataframe\">\n",
       "  <thead>\n",
       "    <tr style=\"text-align: right;\">\n",
       "      <th></th>\n",
       "      <th>date</th>\n",
       "      <th>phone_number</th>\n",
       "      <th>notebook</th>\n",
       "      <th>tablet</th>\n",
       "      <th>phone</th>\n",
       "      <th>spare_part</th>\n",
       "      <th>conversation</th>\n",
       "      <th>customer_price</th>\n",
       "      <th>our_price</th>\n",
       "      <th>recycle</th>\n",
       "      <th>customer_decision</th>\n",
       "    </tr>\n",
       "  </thead>\n",
       "  <tbody>\n",
       "  </tbody>\n",
       "</table>\n",
       "</div>"
      ],
      "text/plain": [
       "Empty DataFrame\n",
       "Columns: [date, phone_number, notebook, tablet, phone, spare_part, conversation, customer_price, our_price, recycle, customer_decision]\n",
       "Index: []"
      ]
     },
     "execution_count": 6,
     "metadata": {},
     "output_type": "execute_result"
    }
   ],
   "source": [
    "buy_from_customer = df(columns=[\"date\",\n",
    "                        \"phone_number\",\n",
    "                        \"notebook\",\n",
    "                        \"tablet\",\n",
    "                        \"phone\",\n",
    "                        \"spare_part\",\n",
    "                        \"conversation\",\n",
    "                        \"customer_price\",\n",
    "                        \"our_price\",\n",
    "                        \"recycle\",\n",
    "                        \"customer_decision\"])\n",
    "buy_from_customer"
   ]
  },
  {
   "cell_type": "code",
   "execution_count": 54,
   "metadata": {
    "collapsed": false,
    "scrolled": true
   },
   "outputs": [
    {
     "data": {
      "text/plain": [
       "[]"
      ]
     },
     "execution_count": 54,
     "metadata": {},
     "output_type": "execute_result"
    }
   ],
   "source": [
    "tree = ET.parse('output.xml')\n",
    "root = tree.getroot()\n",
    "r = root.findall(\"Lead\")\n",
    "\n",
    "def make_dict_of_leads(tree=tree):\n",
    "    root = tree.getroot()\n",
    "    r = root.findall(\"Lead\")\n",
    "\n",
    "    dict_of_leads = dict();\n",
    "    for lead in root.iter('Lead'):\n",
    "        id = lead.attrib[\"id\"]\n",
    "\n",
    "        pulpy = ET.fromstring(lead.attrib[\"text\"])\n",
    "        source_sentence = pulpy.find(\"b\").find(\"s\");\n",
    "        text = \"\";\n",
    "        for i in source_sentence.itertext():\n",
    "            text += i;\n",
    "        dict_of_leads[id] = text;\n",
    "    return dict_of_leads;\n",
    "\n"
   ]
  },
  {
   "cell_type": "code",
   "execution_count": 89,
   "metadata": {
    "collapsed": false
   },
   "outputs": [
    {
     "name": "stdout",
     "output_type": "stream",
     "text": [
      "46 89140580517 продажа айфон6s на выезде Ляпидевского 12.\n",
      "24 / / Клиент продаёт нам ноут.\n",
      "53 89140580517 замена клавиатуры Acer Aspire V3-571G.\n",
      "18 / / Ломбард.\n",
      "10 89140580517 куп 17 зац.\n",
      "28 89140580517 продает Асер 2234 - отказ слишком старый.\n",
      "54 89140580517 модуль памяти.\n",
      "30 89140580517 прод Асер офисный предложил 3000 зацепка.\n",
      "3 89140580517 уу ноутбук купить за 17000 руб.\n",
      "19 89140580517 ломб ноут Асер 5733 наша цена 5000.\n",
      "55 89140580517 жесткий диск купить 320.\n",
      "21 89140580517 ломб Асер 5733 наша цена 5000.\n",
      "29 89140580517 продаст Асер офисный предложил 3000 зацепка.\n",
      "6 89140580517 куп тел 27.\n",
      "22 89140580517 ломб сони хперия з3.\n",
      "7 89140580517 куп телефон 27.\n",
      "40 89140580517 продажа т samsung а5 на выезде Ляпидевского 12.\n",
      "49 89140580517 перевод звонка в Якутию спросить покупаем ли бензопилы.\n",
      "16 89140580517 buy 17 зац.\n",
      "25 89140580517 продажа ноут Асер 2234 - ( наш отказ | мы отказались | отказал ) слишком старый.\n",
      "31 89140580517 прод Асер офисный предложил 3000 зацепка.\n",
      "56 89140580517 ватсапп тв продать зацепка.\n",
      "9 89140580517 куп 12 выезд Широких-Полянского 27, Виталий.\n",
      "5 89140580517 куп 12.\n",
      "14 89140580517 хочет приобрести 17 зац.\n",
      "20 89140580517 ломб тел сони хперия з3.\n",
      "39 89140580517 продажа т samsung a5 на выезде Ляпидевского 12.\n",
      "41 89140580517 продажа Sony M4 Aqua на выезде Ляпидевского 12.\n",
      "45 89140580517 продажа айфон6s на выезде Ляпидевского 12.\n",
      "47 89140580517 спр адрес наш.\n",
      "43 89140580517 продажа тел samsung на выезде Ляпидевского 12.\n",
      "27 89140580517 продаёт Samsung NP305E5A ноут предложила 3000 зацепка.\n",
      "50 89140580517 неадекват.\n",
      "57 89140580517 ватсап ломбард ноут цена оператора 4000.\n",
      "12 89140580517 покупка 17 зац.\n",
      "33 89140580517 sell Acer Aspire зац.\n",
      "37 89140580517 продажа тел самсунг на выезде Ляпидевского 12.\n",
      "44 89140580517 продажа samsung на выезде Ляпидевского 12.\n",
      "17 89140580517 b 17 зац.\n",
      "32 89140580517 прод Асер офисный предложил 3000 зацепка.\n",
      "23 89140580517 ломб сони хперия хперия з3.\n",
      "36 89140580517 продажа тел айфон 6s на выезде Ляпидевского 12.\n",
      "48 89140580517 спр адрес в Бурятии.\n",
      "42 89140580517 продажа Samsung Grand Prime на выезде Ляпидевского 12.\n",
      "58 89140580517.\n",
      "35 / / Клиент продаёт нам телефон.\n",
      "52 89140580517.\n",
      "1 89140580517 хочет купить ноутбук за 17000 руб ездить Якутия.\n",
      "4 89140580517 ноут уу купить за 17000 руб.\n",
      "11 89140580517 № к 17 зац.\n",
      "2 Якутия 89140580517 купить ноутбук за 17000 руб.\n",
      "0 / / Купить.\n",
      "13 89140580517 купля 17 зац.\n",
      "38 89140580517 продажа т самсунг на выезде Ляпидевского 12.\n",
      "51 89140580517 сбой связи.\n",
      "15 89140580517 покупает 17 зац.\n",
      "26 89140580517 № п Samsung NP300E5A ноут предложила 2000 отказ.\n",
      "8 89140580517 куп 30.\n",
      "34 89140580517 s Acer V5 17 зац.\n"
     ]
    }
   ],
   "source": [
    "\n",
    "\n",
    "\n",
    "for k in make_dict_of_leads().keys():\n",
    "    print(k, dict_of_leads[k])"
   ]
  },
  {
   "cell_type": "code",
   "execution_count": null,
   "metadata": {
    "collapsed": true
   },
   "outputs": [],
   "source": []
  }
 ],
 "metadata": {
  "kernelspec": {
   "display_name": "Python 3",
   "language": "python",
   "name": "python3"
  },
  "language_info": {
   "codemirror_mode": {
    "name": "ipython",
    "version": 3
   },
   "file_extension": ".py",
   "mimetype": "text/x-python",
   "name": "python",
   "nbconvert_exporter": "python",
   "pygments_lexer": "ipython3",
   "version": "3.5.1"
  }
 },
 "nbformat": 4,
 "nbformat_minor": 0
}
