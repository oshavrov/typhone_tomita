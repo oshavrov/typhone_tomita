{
 "cells": [
  {
   "cell_type": "code",
   "execution_count": 90,
   "metadata": {
    "collapsed": true
   },
   "outputs": [],
   "source": [
    "import pandas as pd\n",
    "from pandas import DataFrame as df\n",
    "import xml.etree.ElementTree as ET"
   ]
  },
  {
   "cell_type": "code",
   "execution_count": 140,
   "metadata": {
    "collapsed": false
   },
   "outputs": [
    {
     "data": {
      "text/html": [
       "<div>\n",
       "<table border=\"1\" class=\"dataframe\">\n",
       "  <thead>\n",
       "    <tr style=\"text-align: right;\">\n",
       "      <th></th>\n",
       "      <th>date</th>\n",
       "      <th>phone_number</th>\n",
       "      <th>notebook</th>\n",
       "      <th>tablet</th>\n",
       "      <th>phone</th>\n",
       "      <th>spare_part</th>\n",
       "      <th>conversation</th>\n",
       "      <th>customer_price</th>\n",
       "      <th>our_price</th>\n",
       "      <th>recycle</th>\n",
       "      <th>customer_decision</th>\n",
       "    </tr>\n",
       "  </thead>\n",
       "  <tbody>\n",
       "  </tbody>\n",
       "</table>\n",
       "</div>"
      ],
      "text/plain": [
       "Empty DataFrame\n",
       "Columns: [date, phone_number, notebook, tablet, phone, spare_part, conversation, customer_price, our_price, recycle, customer_decision]\n",
       "Index: []"
      ]
     },
     "execution_count": 140,
     "metadata": {},
     "output_type": "execute_result"
    }
   ],
   "source": [
    "buy_out = df(columns=[\"date\",\n",
    "                        \"phone_number\",\n",
    "                        \"notebook\",\n",
    "                        \"tablet\",\n",
    "                        \"phone\",\n",
    "                        \"spare_part\",\n",
    "                        \"conversation\",\n",
    "                        \"customer_price\",\n",
    "                        \"our_price\",\n",
    "                        \"recycle\",\n",
    "                        \"customer_decision\"])\n",
    "\n",
    "map_facts_to_columns = dict()\n",
    "map_facts_to_columns[\"phone_number\"] = [\"CustomerPhone\"]\n",
    "map_facts_to_columns[\"notebook\"] = [\"Word\", \"Vendor\", \"Model\", \"UserDefinedName\"]\n",
    "map_facts_to_columns[\"phone\"] = [\"Phone\", \"Vendor\", \"Model\", \"UserDefinedName\"]\n",
    "map_facts_to_columns[\"tablet\"] = [\"Tablet\", \"Vendor\", \"Model\", \"UserDefinedName\"]\n",
    "map_facts_to_columns[\"conversation\"] = [\"Buy\"]\n",
    "map_facts_to_columns[\"recycle\"] = [\"source sentence\"]\n",
    "map_facts_to_columns[\"customer_decision\"] = [\"what_customer_expects\"]\n",
    "\n",
    "buy_out"
   ]
  },
  {
   "cell_type": "code",
   "execution_count": 136,
   "metadata": {
    "collapsed": false,
    "scrolled": true
   },
   "outputs": [
    {
     "data": {
      "text/plain": [
       "'89140580517 продажа айфон6s на выезде Ляпидевского 12.'"
      ]
     },
     "execution_count": 136,
     "metadata": {},
     "output_type": "execute_result"
    }
   ],
   "source": [
    "tree = ET.parse('output.xml')\n",
    "root = tree.getroot()\n",
    "r = root.findall(\"Lead\")\n",
    "\n",
    "def make_dict_of_leads(root=root):\n",
    "    dict_of_leads = dict();\n",
    "    for lead in root.iter('Lead'):\n",
    "        id = lead.attrib[\"id\"]\n",
    "\n",
    "        pulpy = ET.fromstring(lead.attrib[\"text\"])\n",
    "        source_sentence = pulpy.find(\"b\").find(\"s\");\n",
    "        text = \"\";\n",
    "        for i in source_sentence.itertext():\n",
    "            text += i;\n",
    "        dict_of_leads[id] = text;\n",
    "    return dict_of_leads;\n",
    "\n",
    "make_dict_of_leads()[\"46\"]"
   ]
  },
  {
   "cell_type": "code",
   "execution_count": 154,
   "metadata": {
    "collapsed": false
   },
   "outputs": [
    {
     "name": "stdout",
     "output_type": "stream",
     "text": [
      "NumberInPrice 10 | >BUY< | >17< | Buy\n",
      "10 89140580517 куп 17 зац.\n",
      "Word 3 | >89140580517< | CustomerPhone | >УУ< | CustomerPlace | >НОУТБУК< | Notebook | >BUY< | Buy\n",
      "3 89140580517 уу ноутбук купить за 17000 руб.\n",
      "Word 55 | >89140580517< | CustomerPhone | >BUY< | Buy\n",
      "55 89140580517 жесткий диск купить 320.\n",
      "Word 6 | >89140580517< | CustomerPhone | >BUY< | Buy\n",
      "6 89140580517 куп тел 27.\n",
      "Word 7 | >89140580517< | CustomerPhone | >BUY< | Buy\n",
      "7 89140580517 куп телефон 27.\n",
      "NumberInPrice 16 | >BUY< | >17< | Buy\n",
      "16 89140580517 buy 17 зац.\n",
      "NumberInPrice 9 | >BUY< | >12< | Buy\n",
      "9 89140580517 куп 12 выезд Широких-Полянского 27, Виталий.\n",
      "NumberInPrice 5 | >BUY< | >12< | Buy\n",
      "5 89140580517 куп 12.\n",
      "NumberInPrice 12 | >BUY< | >17< | Buy\n",
      "12 89140580517 покупка 17 зац.\n",
      "NumberInPrice 17 | >BUY< | >17< | Buy\n",
      "17 89140580517 b 17 зац.\n",
      "Word 1 | >89140580517< | CustomerPhone | >BUY< | Buy\n",
      "1 89140580517 хочет купить ноутбук за 17000 руб ездить Якутия.\n",
      "Word 4 | >89140580517< | CustomerPhone | >НОУТБУК< | Notebook | >УУ< | CustomerPlace | >BUY< | Buy\n",
      "4 89140580517 ноут уу купить за 17000 руб.\n",
      "NumberInPrice 11 | >BUY< | >17< | Buy\n",
      "11 89140580517 № к 17 зац.\n",
      "Word 2 | >ЯКУТИЯ< | CustomerPlace | >89140580517< | CustomerPhone | >BUY< | Buy\n",
      "2 Якутия 89140580517 купить ноутбук за 17000 руб.\n",
      "Word 0 | >BUY< | Buy\n",
      "0 / / Купить.\n",
      "NumberInPrice 13 | >BUY< | >17< | Buy\n",
      "13 89140580517 купля 17 зац.\n",
      "NumberInPrice 8 | >BUY< | >30< | Buy\n",
      "8 89140580517 куп 30.\n"
     ]
    },
    {
     "data": {
      "text/html": [
       "<div>\n",
       "<table border=\"1\" class=\"dataframe\">\n",
       "  <thead>\n",
       "    <tr style=\"text-align: right;\">\n",
       "      <th></th>\n",
       "      <th>CustomerPhone</th>\n",
       "      <th>FromUU</th>\n",
       "      <th>Buy</th>\n",
       "      <th>Pawn</th>\n",
       "      <th>Notebook_Word</th>\n",
       "      <th>Notebook_Vendor</th>\n",
       "      <th>Notebook_Model</th>\n",
       "      <th>Notebook_UserDefinedName</th>\n",
       "      <th>Phone_Word</th>\n",
       "      <th>Phone_Vendor</th>\n",
       "      <th>Phone_Model</th>\n",
       "      <th>Phone_UserDefinedName</th>\n",
       "      <th>source_sentence</th>\n",
       "    </tr>\n",
       "  </thead>\n",
       "  <tbody>\n",
       "  </tbody>\n",
       "</table>\n",
       "</div>"
      ],
      "text/plain": [
       "Empty DataFrame\n",
       "Columns: [CustomerPhone, FromUU, Buy, Pawn, Notebook_Word, Notebook_Vendor, Notebook_Model, Notebook_UserDefinedName, Phone_Word, Phone_Vendor, Phone_Model, Phone_UserDefinedName, source_sentence]\n",
       "Index: []"
      ]
     },
     "execution_count": 154,
     "metadata": {},
     "output_type": "execute_result"
    }
   ],
   "source": [
    "# todo: помнить о тексте лида. Там выделены факты прямо в разметке - полезно при выводе информации в веб-интерфейсе\n",
    "\n",
    "def compare_facts_to_leads(root=root):\n",
    "    facts_grouped_by_lead = dict()\n",
    "\n",
    "    for i in root.find(\"document\").find('facts'):\n",
    "        lead_id = i.attrib['LeadID']\n",
    "        if facts_grouped_by_lead.get(lead_id):\n",
    "            facts_grouped_by_lead[lead_id].append(i)\n",
    "        else:\n",
    "            facts_grouped_by_lead[lead_id] = [i]\n",
    "    return facts_grouped_by_lead\n",
    "\n",
    "calls = df(columns=[\n",
    "        \"CustomerPhone\",\n",
    "        \"FromUU\",\n",
    "        \"Buy\",\n",
    "        \"Pawn\",\n",
    "        \"Notebook_Word\",\n",
    "        \"Notebook_Vendor\",\n",
    "        \"Notebook_Model\",\n",
    "        \"Notebook_UserDefinedName\",\n",
    "        \"Phone_Word\",\n",
    "        \"Phone_Vendor\",\n",
    "        \"Phone_Model\",\n",
    "        \"Phone_UserDefinedName\",\n",
    "        \"source_sentence\"\n",
    "    ])\n",
    "\n",
    "facts = compare_facts_to_leads()\n",
    "leads = make_dict_of_leads()\n",
    "for lead in facts:\n",
    "    elems = facts[lead]\n",
    "    one_sentence = lead\n",
    "    for fact_name in elems:\n",
    "        for fact_field in fact_name:\n",
    "            one_sentence += \" | >\" + i.attrib[\"val\"] + \"<\"\n",
    "        one_sentence += \" | \" + e.tag\n",
    "        if e.tag.lower() == \"BUY\".lower():\n",
    "            print(i.tag, one_sentence)\n",
    "            print(lead, leads[lead])\n",
    "    \n",
    "\n",
    "            "
   ]
  },
  {
   "cell_type": "code",
   "execution_count": null,
   "metadata": {
    "collapsed": true
   },
   "outputs": [],
   "source": []
  }
 ],
 "metadata": {
  "kernelspec": {
   "display_name": "Python 3",
   "language": "python",
   "name": "python3"
  },
  "language_info": {
   "codemirror_mode": {
    "name": "ipython",
    "version": 3
   },
   "file_extension": ".py",
   "mimetype": "text/x-python",
   "name": "python",
   "nbconvert_exporter": "python",
   "pygments_lexer": "ipython3",
   "version": "3.5.1"
  }
 },
 "nbformat": 4,
 "nbformat_minor": 0
}
