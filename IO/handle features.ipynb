{
 "cells": [
  {
   "cell_type": "code",
   "execution_count": 90,
   "metadata": {
    "collapsed": true
   },
   "outputs": [],
   "source": [
    "import pandas as pd\n",
    "from pandas import DataFrame as df\n",
    "import xml.etree.ElementTree as ET"
   ]
  },
  {
   "cell_type": "code",
   "execution_count": 91,
   "metadata": {
    "collapsed": false
   },
   "outputs": [
    {
     "data": {
      "text/html": [
       "<div>\n",
       "<table border=\"1\" class=\"dataframe\">\n",
       "  <thead>\n",
       "    <tr style=\"text-align: right;\">\n",
       "      <th></th>\n",
       "      <th>date</th>\n",
       "      <th>phone_number</th>\n",
       "      <th>notebook</th>\n",
       "      <th>tablet</th>\n",
       "      <th>phone</th>\n",
       "      <th>spare_part</th>\n",
       "      <th>conversation</th>\n",
       "      <th>customer_price</th>\n",
       "      <th>our_price</th>\n",
       "      <th>recycle</th>\n",
       "      <th>customer_decision</th>\n",
       "    </tr>\n",
       "  </thead>\n",
       "  <tbody>\n",
       "  </tbody>\n",
       "</table>\n",
       "</div>"
      ],
      "text/plain": [
       "Empty DataFrame\n",
       "Columns: [date, phone_number, notebook, tablet, phone, spare_part, conversation, customer_price, our_price, recycle, customer_decision]\n",
       "Index: []"
      ]
     },
     "execution_count": 91,
     "metadata": {},
     "output_type": "execute_result"
    }
   ],
   "source": [
    "buy_from_customer = df(columns=[\"date\",\n",
    "                        \"phone_number\",\n",
    "                        \"notebook\",\n",
    "                        \"tablet\",\n",
    "                        \"phone\",\n",
    "                        \"spare_part\",\n",
    "                        \"conversation\",\n",
    "                        \"customer_price\",\n",
    "                        \"our_price\",\n",
    "                        \"recycle\",\n",
    "                        \"customer_decision\"])\n",
    "buy_from_customer"
   ]
  },
  {
   "cell_type": "code",
   "execution_count": 136,
   "metadata": {
    "collapsed": false,
    "scrolled": true
   },
   "outputs": [
    {
     "data": {
      "text/plain": [
       "'89140580517 продажа айфон6s на выезде Ляпидевского 12.'"
      ]
     },
     "execution_count": 136,
     "metadata": {},
     "output_type": "execute_result"
    }
   ],
   "source": [
    "tree = ET.parse('output.xml')\n",
    "root = tree.getroot()\n",
    "r = root.findall(\"Lead\")\n",
    "\n",
    "def make_dict_of_leads(root=root):\n",
    "    dict_of_leads = dict();\n",
    "    for lead in root.iter('Lead'):\n",
    "        id = lead.attrib[\"id\"]\n",
    "\n",
    "        pulpy = ET.fromstring(lead.attrib[\"text\"])\n",
    "        source_sentence = pulpy.find(\"b\").find(\"s\");\n",
    "        text = \"\";\n",
    "        for i in source_sentence.itertext():\n",
    "            text += i;\n",
    "        dict_of_leads[id] = text;\n",
    "    return dict_of_leads;\n",
    "\n",
    "make_dict_of_leads()[\"46\"]"
   ]
  },
  {
   "cell_type": "code",
   "execution_count": 135,
   "metadata": {
    "collapsed": false
   },
   "outputs": [
    {
     "name": "stdout",
     "output_type": "stream",
     "text": [
      "46 | 89140580517 | CustomerPhone | АЙФОН6S | Phone\n",
      "24 | НОУТБУК | Notebook\n",
      "53 | 89140580517 | CustomerPhone | ACER | Notebook\n",
      "18 | PAWN | Pawn\n",
      "10 | BUY | 17 | Buy | 89140580517 | CustomerPhone\n",
      "28 | 89140580517 | CustomerPhone | АСЕР | Notebook\n",
      "54 | 89140580517 | CustomerPhone\n",
      "30 | 89140580517 | CustomerPhone | АСЕР | Notebook\n",
      "3 | 89140580517 | CustomerPhone | УУ | CustomerPlace | НОУТБУК | Notebook | BUY | Buy\n",
      "19 | PAWN | НОУТБУК | Pawn | НОУТБУК | АСЕР | Notebook | 89140580517 | CustomerPhone\n",
      "55 | 89140580517 | CustomerPhone | BUY | Buy\n",
      "21 | PAWN | АСЕР | Pawn | 89140580517 | CustomerPhone | АСЕР | Notebook\n",
      "29 | 89140580517 | CustomerPhone | АСЕР | Notebook\n",
      "6 | 89140580517 | CustomerPhone | BUY | Buy | ТЕЛЕФОН | Phone\n",
      "22 | PAWN | СОНИ | Pawn | СОНИ | ХПЕРИЯ З3 | Phone | 89140580517 | CustomerPhone\n",
      "7 | 89140580517 | CustomerPhone | BUY | Buy | ТЕЛЕФОН | Phone\n",
      "40 | ТЕЛЕФОН | SAMSUNG | А5 | Phone | 89140580517 | CustomerPhone\n",
      "49 | 89140580517 | CustomerPhone | ЯКУТИЯ | CustomerPlace\n",
      "16 | BUY | 17 | Buy | 89140580517 | CustomerPhone\n",
      "25 | НОУТБУК | АСЕР | Notebook | 89140580517 | CustomerPhone\n",
      "31 | 89140580517 | CustomerPhone | АСЕР | Notebook\n",
      "56 | 89140580517 | CustomerPhone\n",
      "9 | BUY | 12 | Buy | 89140580517 | CustomerPhone\n",
      "5 | BUY | 12 | Buy | 89140580517 | CustomerPhone\n",
      "14 | 89140580517 | CustomerPhone\n",
      "20 | PAWN | ТЕЛЕФОН | Pawn | ТЕЛЕФОН | СОНИ | ХПЕРИЯ З3 | Phone | 89140580517 | CustomerPhone\n",
      "39 | ТЕЛЕФОН | SAMSUNG | A5 | Phone | 89140580517 | CustomerPhone\n",
      "41 | SONY | M4 | Phone | 89140580517 | CustomerPhone\n",
      "45 | 89140580517 | CustomerPhone | АЙФОН6S | Phone\n",
      "47 | 89140580517 | CustomerPhone\n",
      "43 | ТЕЛЕФОН | SAMSUNG | Phone | 89140580517 | CustomerPhone\n",
      "27 | 89140580517 | CustomerPhone | SAMSUNG | Phone | НОУТБУК | Notebook\n",
      "50 | 89140580517 | CustomerPhone\n",
      "57 | PAWN | НОУТБУК | Pawn | 89140580517 | CustomerPhone | НОУТБУК | Notebook\n",
      "12 | BUY | 17 | Buy | 89140580517 | CustomerPhone\n",
      "33 | 89140580517 | CustomerPhone | ACER | Notebook\n",
      "37 | ТЕЛЕФОН | САМСУНГ | Phone | 89140580517 | CustomerPhone\n",
      "44 | 89140580517 | CustomerPhone | SAMSUNG | Phone\n",
      "17 | BUY | 17 | Buy | 89140580517 | CustomerPhone\n",
      "32 | 89140580517 | CustomerPhone | АСЕР | Notebook\n",
      "23 | PAWN | СОНИ | Pawn | СОНИ | ХПЕРИЯ ХПЕРИЯ З3 | Phone | 89140580517 | CustomerPhone\n",
      "36 | АЙФОН 6S | Phone | 89140580517 | CustomerPhone | ТЕЛЕФОН | Phone\n",
      "48 | 89140580517 | CustomerPhone\n",
      "42 | 89140580517 | CustomerPhone | SAMSUNG | Phone\n",
      "58 | 89140580517 | CustomerPhone\n",
      "35 | ТЕЛЕФОН | Phone\n",
      "52 | 89140580517 | CustomerPhone\n",
      "1 | 89140580517 | CustomerPhone | BUY | Buy | НОУТБУК | Notebook | ЯКУТИЯ | CustomerPlace\n",
      "4 | 89140580517 | CustomerPhone | НОУТБУК | Notebook | УУ | CustomerPlace | BUY | Buy\n",
      "11 | BUY | 17 | Buy | 89140580517 | CustomerPhone\n",
      "2 | ЯКУТИЯ | CustomerPlace | 89140580517 | CustomerPhone | BUY | Buy | НОУТБУК | Notebook\n",
      "0 | BUY | Buy\n",
      "13 | BUY | 17 | Buy | 89140580517 | CustomerPhone\n",
      "38 | ТЕЛЕФОН | САМСУНГ | Phone | 89140580517 | CustomerPhone\n",
      "51 | 89140580517 | CustomerPhone\n",
      "15 | 89140580517 | CustomerPhone\n",
      "26 | 89140580517 | CustomerPhone | SAMSUNG | Phone | НОУТБУК | Notebook\n",
      "8 | BUY | 30 | Buy | 89140580517 | CustomerPhone\n",
      "34 | 89140580517 | CustomerPhone | ACER | Notebook\n"
     ]
    }
   ],
   "source": [
    "# todo: помнить о тексте лида. Там выделены факты прямо в разметке - полезно при выводе информации в веб-интерфейсе\n",
    "\n",
    "def compare_facts_to_leads(root=root):\n",
    "    facts_grouped_by_lead = dict()\n",
    "\n",
    "    for i in root.find(\"document\").find('facts'):\n",
    "        lead_id = i.attrib['LeadID']\n",
    "        if facts_grouped_by_lead.get(lead_id):\n",
    "            facts_grouped_by_lead[lead_id].append(i)\n",
    "        else:\n",
    "            facts_grouped_by_lead[lead_id] = [i]\n",
    "    return facts_grouped_by_lead\n",
    "\n",
    "facts = compare_facts_to_leads()\n",
    "for lead in facts:\n",
    "    elems = facts[lead]\n",
    "    one_sentence = lead\n",
    "    for e in elems:\n",
    "        for i in e:\n",
    "            one_sentence += \" | \" + i.attrib[\"val\"]\n",
    "        one_sentence += \" | \" + e.tag\n",
    "    print(one_sentence)"
   ]
  },
  {
   "cell_type": "code",
   "execution_count": null,
   "metadata": {
    "collapsed": true
   },
   "outputs": [],
   "source": []
  }
 ],
 "metadata": {
  "kernelspec": {
   "display_name": "Python 3",
   "language": "python",
   "name": "python3"
  },
  "language_info": {
   "codemirror_mode": {
    "name": "ipython",
    "version": 3
   },
   "file_extension": ".py",
   "mimetype": "text/x-python",
   "name": "python",
   "nbconvert_exporter": "python",
   "pygments_lexer": "ipython3",
   "version": "3.5.1"
  }
 },
 "nbformat": 4,
 "nbformat_minor": 0
}
