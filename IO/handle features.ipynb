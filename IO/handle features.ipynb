{
 "cells": [
  {
   "cell_type": "code",
   "execution_count": 280,
   "metadata": {
    "collapsed": false
   },
   "outputs": [],
   "source": [
    "import pandas as pd\n",
    "from pandas import DataFrame as df\n",
    "import xml.etree.ElementTree as ET\n",
    "import numpy as np\n",
    "import re\n"
   ]
  },
  {
   "cell_type": "code",
   "execution_count": 281,
   "metadata": {
    "collapsed": true
   },
   "outputs": [],
   "source": [
    "DATE_TEMPLATE = re.compile(r'\\d{2}\\.\\d{2}\\.\\d{4}')"
   ]
  },
  {
   "cell_type": "code",
   "execution_count": null,
   "metadata": {
    "collapsed": false
   },
   "outputs": [],
   "source": []
  },
  {
   "cell_type": "code",
   "execution_count": 282,
   "metadata": {
    "collapsed": false,
    "scrolled": true
   },
   "outputs": [
    {
     "data": {
      "text/plain": [
       "'самсунг с4 купить'"
      ]
     },
     "execution_count": 282,
     "metadata": {},
     "output_type": "execute_result"
    }
   ],
   "source": [
    "tree = ET.parse('output.xml')\n",
    "root = tree.getroot()\n",
    "r = root.findall(\"Lead\")\n",
    "\n",
    "def make_dict_of_leads(root=root):\n",
    "    dict_of_leads = dict();\n",
    "    for lead in root.iter('Lead'):\n",
    "        id = lead.attrib[\"id\"]\n",
    "\n",
    "        pulpy = ET.fromstring(lead.attrib[\"text\"])\n",
    "        source_sentence = pulpy.find(\"b\").find(\"s\")\n",
    "\n",
    "        remove_explicit_from_sentence(source_sentence)\n",
    "\n",
    "        text = ''.join(source_sentence.itertext())\n",
    "        dict_of_leads[id] = re.sub(r'\\.$', '', text.strip());\n",
    "    return dict_of_leads\n",
    "\n",
    "def remove_explicit_from_sentence(xml_sentence):\n",
    "    \n",
    "    def remove_target_node(xml_sentence, target_template):\n",
    "        for node in xml_sentence:\n",
    "            if re.search(target_template, node.attrib[\"lemma\"]):\n",
    "                node.text = ''\n",
    "                \n",
    "    # to remove\n",
    "    phoneno = re.compile(r'\\d{11}')\n",
    "    date = DATE_TEMPLATE\n",
    "\n",
    "    remove_target_node(xml_sentence, phoneno)\n",
    "    remove_target_node(xml_sentence, date)\n",
    "   \n",
    "\n",
    "one = make_dict_of_leads()['0']\n",
    "\n",
    "\n",
    "\"\"\"\n",
    "   <b>\n",
    "      <s>\n",
    "         21.06.2016\n",
    "         <P n0=\"\" lemma=\"89140580517\">89140580517</P>\n",
    "         хочет\n",
    "         <W n1=\"\" lemma=\"buy\">купить</W>\n",
    "         <W n2=\"\" lemma=\"ноутбук\">ноутбук</W>\n",
    "         за 17000 руб ездить\n",
    "         <P n3=\"\" lemma=\"Якутия\">Якутия</P>\n",
    "         .\n",
    "      </s>\n",
    "   </b>\n",
    "\"\"\"\n",
    "\n",
    "\n",
    "one"
   ]
  },
  {
   "cell_type": "code",
   "execution_count": null,
   "metadata": {
    "collapsed": true
   },
   "outputs": [],
   "source": []
  },
  {
   "cell_type": "code",
   "execution_count": null,
   "metadata": {
    "collapsed": true
   },
   "outputs": [],
   "source": []
  },
  {
   "cell_type": "code",
   "execution_count": 283,
   "metadata": {
    "collapsed": false
   },
   "outputs": [],
   "source": [
    "# todo: помнить о тексте лида. Там выделены факты прямо в разметке - полезно при выводе информации в веб-интерфейсе\n",
    "\n",
    "def compare_facts_to_leads(root=root):\n",
    "    facts_grouped_by_lead = dict()\n",
    "\n",
    "    for i in root.find(\"document\").find('facts'):\n",
    "        lead_id = i.attrib['LeadID']\n",
    "        if facts_grouped_by_lead.get(lead_id):\n",
    "            facts_grouped_by_lead[lead_id].append(i)\n",
    "        else:\n",
    "            facts_grouped_by_lead[lead_id] = [i]\n",
    "    return facts_grouped_by_lead\n",
    "\n",
    "def make_common_table():\n",
    "    calls = df()\n",
    "    \n",
    "    facts = compare_facts_to_leads()\n",
    "    leads = make_dict_of_leads()\n",
    "\n",
    "    for lead in facts:\n",
    "        try:\n",
    "            elems = facts[lead]\n",
    "            one_sentence = leads[lead]\n",
    "            cols = [\"lead_id\", \"conversation\"]\n",
    "            values = [lead, one_sentence]\n",
    "            for fact_name in elems:\n",
    "                for fact_field in fact_name:\n",
    "                    cols.append(fact_name.tag + \"_\" + fact_field.tag)\n",
    "                    values.append(fact_field.attrib[\"val\"])\n",
    "            one_row = pd.DataFrame([values], columns=cols)\n",
    "            calls = calls.append(one_row)\n",
    "\n",
    "            values = []\n",
    "            cols = []\n",
    "        except ValueError as e:\n",
    "            print(e)\n",
    "            print(lead, leads[lead])\n",
    "    return calls\n"
   ]
  },
  {
   "cell_type": "code",
   "execution_count": 284,
   "metadata": {
    "collapsed": false
   },
   "outputs": [
    {
     "data": {
      "text/html": [
       "<div>\n",
       "<table border=\"1\" class=\"dataframe\">\n",
       "  <thead>\n",
       "    <tr style=\"text-align: right;\">\n",
       "      <th></th>\n",
       "      <th>CallDate_Date</th>\n",
       "      <th>CustomerBuys_Word</th>\n",
       "      <th>CustomerPhone_Phone</th>\n",
       "      <th>CustomerPlace_Buryatia</th>\n",
       "      <th>CustomerPlace_Yakutia</th>\n",
       "      <th>CustomerSells_Word</th>\n",
       "      <th>Matter_Notebook</th>\n",
       "      <th>Matter_Other</th>\n",
       "      <th>Matter_Phone</th>\n",
       "      <th>Matter_TV</th>\n",
       "      <th>Matter_Tablet</th>\n",
       "      <th>Pawn_Word</th>\n",
       "      <th>Repare_Word</th>\n",
       "      <th>conversation</th>\n",
       "    </tr>\n",
       "    <tr>\n",
       "      <th>lead_id</th>\n",
       "      <th></th>\n",
       "      <th></th>\n",
       "      <th></th>\n",
       "      <th></th>\n",
       "      <th></th>\n",
       "      <th></th>\n",
       "      <th></th>\n",
       "      <th></th>\n",
       "      <th></th>\n",
       "      <th></th>\n",
       "      <th></th>\n",
       "      <th></th>\n",
       "      <th></th>\n",
       "      <th></th>\n",
       "    </tr>\n",
       "  </thead>\n",
       "  <tbody>\n",
       "    <tr>\n",
       "      <th>0</th>\n",
       "      <td>24.06.2016</td>\n",
       "      <td>КУПЛЯ</td>\n",
       "      <td>89627305831</td>\n",
       "      <td>NaN</td>\n",
       "      <td>NaN</td>\n",
       "      <td>NaN</td>\n",
       "      <td>NaN</td>\n",
       "      <td>NaN</td>\n",
       "      <td>САМСУНГ С4</td>\n",
       "      <td>NaN</td>\n",
       "      <td>NaN</td>\n",
       "      <td>NaN</td>\n",
       "      <td>NaN</td>\n",
       "      <td>самсунг с4 купить</td>\n",
       "    </tr>\n",
       "    <tr>\n",
       "      <th>1</th>\n",
       "      <td>24.06.2016</td>\n",
       "      <td>КУПЛЯ</td>\n",
       "      <td>89243637772</td>\n",
       "      <td>NaN</td>\n",
       "      <td>NaN</td>\n",
       "      <td>NaN</td>\n",
       "      <td>NaN</td>\n",
       "      <td>NaN</td>\n",
       "      <td>АЙФОН 5С</td>\n",
       "      <td>NaN</td>\n",
       "      <td>NaN</td>\n",
       "      <td>NaN</td>\n",
       "      <td>NaN</td>\n",
       "      <td>айфон 5с купить</td>\n",
       "    </tr>\n",
       "    <tr>\n",
       "      <th>2</th>\n",
       "      <td>24.06.2016</td>\n",
       "      <td>NaN</td>\n",
       "      <td>89241742373</td>\n",
       "      <td>NaN</td>\n",
       "      <td>NaN</td>\n",
       "      <td>NaN</td>\n",
       "      <td>NaN</td>\n",
       "      <td>NaN</td>\n",
       "      <td>АЙФОН 5С</td>\n",
       "      <td>NaN</td>\n",
       "      <td>NaN</td>\n",
       "      <td>NaN</td>\n",
       "      <td>NaN</td>\n",
       "      <td>айфон 5с</td>\n",
       "    </tr>\n",
       "  </tbody>\n",
       "</table>\n",
       "</div>"
      ],
      "text/plain": [
       "        CallDate_Date CustomerBuys_Word CustomerPhone_Phone  \\\n",
       "lead_id                                                       \n",
       "0          24.06.2016             КУПЛЯ         89627305831   \n",
       "1          24.06.2016             КУПЛЯ         89243637772   \n",
       "2          24.06.2016               NaN         89241742373   \n",
       "\n",
       "        CustomerPlace_Buryatia CustomerPlace_Yakutia CustomerSells_Word  \\\n",
       "lead_id                                                                   \n",
       "0                          NaN                   NaN                NaN   \n",
       "1                          NaN                   NaN                NaN   \n",
       "2                          NaN                   NaN                NaN   \n",
       "\n",
       "        Matter_Notebook Matter_Other Matter_Phone Matter_TV Matter_Tablet  \\\n",
       "lead_id                                                                     \n",
       "0                   NaN          NaN   САМСУНГ С4       NaN           NaN   \n",
       "1                   NaN          NaN     АЙФОН 5С       NaN           NaN   \n",
       "2                   NaN          NaN     АЙФОН 5С       NaN           NaN   \n",
       "\n",
       "        Pawn_Word Repare_Word       conversation  \n",
       "lead_id                                           \n",
       "0             NaN         NaN  самсунг с4 купить  \n",
       "1             NaN         NaN    айфон 5с купить  \n",
       "2             NaN         NaN           айфон 5с  "
      ]
     },
     "execution_count": 284,
     "metadata": {},
     "output_type": "execute_result"
    }
   ],
   "source": [
    "calls = make_common_table()\n",
    "calls[\"lead_id\"] = calls[\"lead_id\"].map(int)\n",
    "calls = calls.sort_values(by=\"lead_id\")\n",
    "\n",
    "calls = calls.set_index(\"lead_id\")\n",
    "\n",
    "# Звонки из Бурятии\n",
    "calls_from_buryatia = calls[calls.CustomerPlace_Buryatia.notnull()]\n",
    "\n",
    "calls.head(3)"
   ]
  },
  {
   "cell_type": "code",
   "execution_count": 285,
   "metadata": {
    "collapsed": false
   },
   "outputs": [],
   "source": [
    "\n",
    "def prepare_for_excel_ykt(source_df, col_name, output_cols):\n",
    "    yakutia = source_df[source_df.CustomerPlace_Buryatia.isnull()]\n",
    "    \n",
    "    actions = yakutia[yakutia[col_name].notnull()]\n",
    "    actioned = df(actions, columns=output_cols[0])\n",
    "\n",
    "    actioned.columns=output_cols[1]\n",
    "    return actioned\n",
    "\n",
    "\n",
    "# todo действие по умолчанию - купить. Собрать такие графы в таблицу \"Купить\" - клиент покупает у нас\n",
    "# todo ремонт только телефонов и ноутбуков\n",
    "\n",
    "cols_for_buy_and_sell = [\n",
    "    [\n",
    "        \"CallDate_Date\",\n",
    "        \"CustomerPhone_Phone\",\n",
    "        \"Matter_Notebook\",\n",
    "        \"Matter_Tablet\",\n",
    "        \"Matter_TV\",\n",
    "        \"Matter_Phone\",\n",
    "        \"Matter_Other\",\n",
    "        \"conversation\",\n",
    "        \"Комплектация\",\n",
    "        \"Цена клиента\",\n",
    "        \"Наша цена\",\n",
    "        \"Утилизация\",\n",
    "        \"Решение клиента\",\n",
    "    ],\n",
    "\n",
    "    [\n",
    "        \"Дата\",\n",
    "        \"Номер телефона\",\n",
    "        \"Ноутбук/нетбук\",\n",
    "        \"Планшет\",\n",
    "        \"Телевизор\",\n",
    "        \"Телефон\",\n",
    "        \"Другое\",\n",
    "        \"Разговор\",\n",
    "        \"Комплектация\",\n",
    "        \"Цена клиента\",\n",
    "        \"Наша цена\",\n",
    "        \"Утилизация\",\n",
    "        \"Решение клиента\",\n",
    "    ]\n",
    "]\n"
   ]
  },
  {
   "cell_type": "code",
   "execution_count": 286,
   "metadata": {
    "collapsed": false
   },
   "outputs": [],
   "source": [
    "\n",
    "writer = pd.ExcelWriter('report.xlsx')\n",
    "\n",
    "vikup = prepare_for_excel_ykt(calls, \"CustomerSells_Word\", cols_for_buy_and_sell)\n",
    "prodazha = prepare_for_excel_ykt(calls, \"CustomerBuys_Word\", cols_for_buy_and_sell)\n",
    "remont = prepare_for_excel_ykt(calls, \"Repare_Word\", cols_for_buy_and_sell)\n",
    "lombard = prepare_for_excel_ykt(calls, \"Pawn_Word\", cols_for_buy_and_sell)\n",
    "\n",
    "vikup.to_excel(writer, sheet_name = \"Выкуп\", index=False)\n",
    "prodazha.to_excel(writer, sheet_name = \"Продажа\", index=False)\n",
    "remont.to_excel(writer, sheet_name = \"Ремонт\", index=False)\n",
    "lombard.to_excel(writer, sheet_name = \"Ломбард\", index=False)\n",
    "writer.save()"
   ]
  },
  {
   "cell_type": "code",
   "execution_count": null,
   "metadata": {
    "collapsed": true
   },
   "outputs": [],
   "source": []
  }
 ],
 "metadata": {
  "kernelspec": {
   "display_name": "Python 3",
   "language": "python",
   "name": "python3"
  },
  "language_info": {
   "codemirror_mode": {
    "name": "ipython",
    "version": 3
   },
   "file_extension": ".py",
   "mimetype": "text/x-python",
   "name": "python",
   "nbconvert_exporter": "python",
   "pygments_lexer": "ipython3",
   "version": "3.5.1"
  }
 },
 "nbformat": 4,
 "nbformat_minor": 0
}
